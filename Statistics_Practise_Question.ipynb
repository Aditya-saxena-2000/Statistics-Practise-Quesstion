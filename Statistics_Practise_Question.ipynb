{
  "nbformat": 4,
  "nbformat_minor": 0,
  "metadata": {
    "colab": {
      "provenance": []
    },
    "kernelspec": {
      "name": "python3",
      "display_name": "Python 3"
    },
    "language_info": {
      "name": "python"
    }
  },
  "cells": [
    {
      "cell_type": "markdown",
      "source": [
        "Q.1 Generate a list of 100 integers containing values between 90 to 130 and store it in the variable `int_list`.\n",
        "After generating the list, find the following:\n",
        "\n",
        "  \n",
        "\n",
        "  (i) Write a Python function to calculate the mean of a given list of numbers.\n",
        "\n",
        "Create a function to find the median of a list of numbers.\n",
        "\n",
        "  \n",
        "\n",
        "  (ii) Develop a program to compute the mode of a list of integers.\n",
        "\n",
        "  \n",
        "\n",
        "  (iii) Implement a function to calculate the weighted mean of a list of values and their corresponding weights.\n",
        "\n",
        "  \n",
        "\n",
        "  (iv) Write a Python function to find the geometric mean of a list of positive numbers.\n",
        "\n",
        "  \n",
        "\n",
        "  (v) Create a program to calculate the harmonic mean of a list of values.\n",
        "\n",
        "  \n",
        "\n",
        "  (vi) Build a function to determine the midrange of a list of numbers (average of the minimum and maximum).\n",
        "\n",
        "  \n",
        "\n",
        "  (vii) Implement a Python program to find the trimmed mean of a list, excluding a certain percentage of\n",
        "outliers."
      ],
      "metadata": {
        "id": "wcvqHiJlXmCC"
      }
    },
    {
      "cell_type": "code",
      "source": [
        "import random\n",
        "\n",
        "# Generate a list of 100 integers between 90 and 130\n",
        "int_list = [random.randint(90, 130) for _ in range(100)]\n",
        "\n",
        "# (i) Mean and Median Functions\n",
        "def mean(lst):\n",
        "    return sum(lst) / len(lst)\n",
        "\n",
        "def median(lst):\n",
        "    sorted_lst = sorted(lst)\n",
        "    n = len(sorted_lst)\n",
        "    if n % 2 == 0:\n",
        "        return (sorted_lst[n//2 - 1] + sorted_lst[n//2]) / 2\n",
        "    else:\n",
        "        return sorted_lst[n//2]\n",
        "\n",
        "# (ii) Mode Function\n",
        "def mode(lst):\n",
        "    counts = {}\n",
        "    for num in lst:\n",
        "        counts[num] = counts.get(num, 0) + 1\n",
        "    max_count = max(counts.values())\n",
        "    return [num for num, count in counts.items() if count == max_count]\n",
        "\n",
        "# (iii) Weighted Mean Function\n",
        "def weighted_mean(values, weights):\n",
        "    weighted_sum = sum(value * weight for value, weight in zip(values, weights))\n",
        "    total_weight = sum(weights)\n",
        "    return weighted_sum / total_weight\n",
        "\n",
        "# (iv) Geometric Mean Function\n",
        "def geometric_mean(lst):\n",
        "    product = 1\n",
        "    for num in lst:\n",
        "        product *= num\n",
        "    return product ** (1/len(lst))\n",
        "\n",
        "# (v) Harmonic Mean Function\n",
        "def harmonic_mean(lst):\n",
        "    harmonic_sum = sum(1/num for num in lst)\n",
        "    return len(lst) / harmonic_sum\n",
        "\n",
        "# (vi) Midrange Function\n",
        "def midrange(lst):\n",
        "    return (min(lst) + max(lst)) / 2\n",
        "\n",
        "# (vii) Trimmed Mean Function\n",
        "def trimmed_mean(lst, trim_percent):\n",
        "    n = len(lst)\n",
        "    trim_index = int(n * trim_percent / 100)\n",
        "    sorted_lst = sorted(lst)\n",
        "    trimmed_lst = sorted_lst[trim_index:-trim_index]\n",
        "    return mean(trimmed_lst)\n",
        "\n",
        "# Example Usage\n",
        "print(\"Mean:\", mean(int_list))\n",
        "print(\"Median:\", median(int_list))\n",
        "print(\"Mode:\", mode(int_list))\n",
        "# ... (similarly for other functions)"
      ],
      "metadata": {
        "colab": {
          "base_uri": "https://localhost:8080/"
        },
        "id": "yBOqv7AxaAJw",
        "outputId": "3a749d8a-454d-4c12-e38f-9f39b055cabd"
      },
      "execution_count": 12,
      "outputs": [
        {
          "output_type": "stream",
          "name": "stdout",
          "text": [
            "Mean: 110.9\n",
            "Median: 111.0\n",
            "Mode: [114, 129, 125]\n"
          ]
        }
      ]
    },
    {
      "cell_type": "markdown",
      "source": [
        "Explanation:\n",
        "\n",
        "1. Mean and Median: These are standard statistical measures.\n",
        "2. Mode: Finds the most frequent value(s) in the list.\n",
        "3. Weighted Mean: Calculates the mean considering the importance of each value.\n",
        "4. Geometric Mean: Useful for averaging ratios or rates.\n",
        "5. Harmonic Mean: Appropriate for averaging rates or ratios where the denominator is constant.\n",
        "6. Midrange: A simple measure of central tendency.\n",
        "7. Trimmed Mean: Reduces the impact of outliers by removing a certain percentage of data from both ends.\n",
        "\n",
        "Remember to replace int_list with your actual list of integers. You can customize the trim percentage in the trimmed_mean function to suit your specific needs."
      ],
      "metadata": {
        "id": "EX5cyYpZai3q"
      }
    },
    {
      "cell_type": "markdown",
      "source": [
        "Q.2 Generate a list of 500 integers containing values between 200 to 300 and store it in the variable `int_list2`.\n",
        "After generating the list, find the following:\n",
        "\n",
        "\n",
        "  (i) Compare the given list of visualization for the given data:\n",
        "\n",
        "    \n",
        "\n",
        "    1. Frequency & Gaussian distribution\n",
        "\n",
        "    2. Frequency smoothened KDE plot\n",
        "\n",
        "    3. Gaussian distribution & smoothened KDE plot\n",
        "\n",
        "\n",
        "  (ii) Write a Python function to calculate the range of a given list of numbers.\n",
        "\n",
        "\n",
        "  (iii) Create a program to find the variance and standard deviation of a list of numbers.\n",
        "\n",
        "\n",
        "  (iv) Implement a function to compute the interquartile range (IQR) of a list of values.\n",
        "\n",
        "\n",
        "  (v) Build a program to calculate the coefficient of variation for a dataset.\n",
        "\n",
        "  \n",
        "\n",
        "  (vi) Write a Python function to find the mean absolute deviation (MAD) of a list of numbers.\n",
        "\n",
        "\n",
        "  (vii) Create a program to calculate the quartile deviation of a list of values.\n",
        "\n",
        "  \n",
        "\n",
        "  (viii) Implement a function to find the range-based coefficient of dispersion for a dataset"
      ],
      "metadata": {
        "id": "gpDOKzH8avdp"
      }
    },
    {
      "cell_type": "code",
      "source": [
        "import random\n",
        "import numpy as np\n",
        "import matplotlib.pyplot as plt\n",
        "import seaborn as sns\n",
        "\n",
        "# Generate a list of 500 integers between 200 and 300\n",
        "int_list2 = [random.randint(200, 300) for _ in range(500)]\n",
        "\n",
        "# (i) Visualizations\n",
        "# Convert the list to a NumPy array for easier calculations and plotting\n",
        "data = np.array(int_list2)\n",
        "\n",
        "# 1. Frequency & Gaussian distribution\n",
        "plt.hist(data, bins=20, density=True, alpha=0.6, color='g')\n",
        "plt.title('Histogram of Data')\n",
        "plt.xlabel('Value')\n",
        "plt.ylabel('Frequency')\n",
        "plt.show()\n",
        "\n",
        "# 2. Frequency smoothened KDE plot\n",
        "sns.kdeplot(data, shade=True)\n",
        "plt.title('KDE Plot of Data')\n",
        "plt.xlabel('Value')\n",
        "plt.ylabel('Density')\n",
        "plt.show()\n",
        "\n",
        "# 3. Gaussian distribution & smoothened KDE plot\n",
        "sns.distplot(data, hist=False, kde=True, color='b', kde_kws={'linewidth': 3})\n",
        "plt.title('Gaussian Distribution and KDE Plot of Data')\n",
        "plt.xlabel('Value')\n",
        "plt.ylabel('Density')\n",
        "plt.show()\n",
        "\n",
        "# (ii) Range function\n",
        "def calculate_range(data):\n",
        "    return max(data) - min(data)\n",
        "\n",
        "# (iii) Variance and Standard Deviation\n",
        "def variance_std_deviation(data):\n",
        "    mean = sum(data) / len(data)\n",
        "    variance = sum((x - mean) ** 2 for x in data) / len(data)\n",
        "    std_deviation = variance**0.5\n",
        "    return variance, std_deviation\n",
        "\n",
        "# (iv) Interquartile Range (IQR)\n",
        "def interquartile_range(data):\n",
        "    q1 = np.percentile(data, 25)\n",
        "    q3 = np.percentile(data, 75)\n",
        "    return q3 - q1\n",
        "\n",
        "# (v) Coefficient of Variation\n",
        "def coefficient_of_variation(data):\n",
        "    mean = np.mean(data)\n",
        "    std_dev = np.std(data)\n",
        "    return (std_dev / mean) * 100\n",
        "\n",
        "# (vi) Mean Absolute Deviation (MAD)\n",
        "def mean_absolute_deviation(data):\n",
        "    mean = np.mean(data)\n",
        "    mad = np.mean(np.abs(data - mean))\n",
        "    return mad\n",
        "\n",
        "# (vii) Quartile Deviation\n",
        "def quartile_deviation(data):\n",
        "    q1 = np.percentile(data, 25)\n",
        "    q3 = np.percentile(data, 75)\n",
        "    qd = (q3 - q1) / 2\n",
        "    return qd\n",
        "\n",
        "# (viii) Range-based Coefficient of Dispersion\n",
        "def range_based_coefficient_of_dispersion(data):\n",
        "    range_val = calculate_range(data)\n",
        "    mean = np.mean(data)\n",
        "    return range_val / mean"
      ],
      "metadata": {
        "colab": {
          "base_uri": "https://localhost:8080/",
          "height": 1000
        },
        "id": "LUvZwirlafPU",
        "outputId": "89066d53-6d49-4312-f01e-ab405c1a66f1"
      },
      "execution_count": 13,
      "outputs": [
        {
          "output_type": "display_data",
          "data": {
            "text/plain": [
              "<Figure size 640x480 with 1 Axes>"
            ],
            "image/png": "[encoded data removed]"
          },
          "metadata": {}
        },
        {
          "output_type": "stream",
          "name": "stderr",
          "text": [
            "<ipython-input-13-5bc462a09d1a>:21: FutureWarning: \n",
            "\n",
            "`shade` is now deprecated in favor of `fill`; setting `fill=True`.\n",
            "This will become an error in seaborn v0.14.0; please update your code.\n",
            "\n",
            "  sns.kdeplot(data, shade=True)\n"
          ]
        },
        {
          "output_type": "display_data",
          "data": {
            "text/plain": [
              "<Figure size 640x480 with 1 Axes>"
            ],
            "image/png": "[encoded data removed]"
          },
          "metadata": {}
        },
        {
          "output_type": "stream",
          "name": "stderr",
          "text": [
            "<ipython-input-13-5bc462a09d1a>:28: UserWarning: \n",
            "\n",
            "`distplot` is a deprecated function and will be removed in seaborn v0.14.0.\n",
            "\n",
            "Please adapt your code to use either `displot` (a figure-level function with\n",
            "similar flexibility) or `kdeplot` (an axes-level function for kernel density plots).\n",
            "\n",
            "For a guide to updating your code to use the new functions, please see\n",
            "https://gist.github.com/mwaskom/de44147ed2974457ad6372750bbe5751\n",
            "\n",
            "  sns.distplot(data, hist=False, kde=True, color='b', kde_kws={'linewidth': 3})\n"
          ]
        },
        {
          "output_type": "display_data",
          "data": {
            "text/plain": [
              "<Figure size 640x480 with 1 Axes>"
            ],
            "image/png": "[encoded data removed]"
          },
          "metadata": {}
        }
      ]
    },
    {
      "cell_type": "markdown",
      "source": [
        "Explanation:\n",
        "\n",
        "1. Data Generation: We create a list of 500 random integers between 200 and 300.\n",
        "2. Visualizations:\n",
        "    \n",
        "    * Histogram: Visualizes the frequency distribution of the data.\n",
        "\n",
        "    * KDE Plot: Shows the probability density function of the data.\n",
        "\n",
        "    * Gaussian Distribution and KDE Plot: Compares the actual distribution with a normal (Gaussian) distribution.\n",
        "3. Range: Calculates the difference between the maximum and minimum values.\n",
        "4. Variance and Standard Deviation: Measures the spread of the data.\n",
        "5. Interquartile Range: Calculates the range of the middle 50% of the data.\n",
        "6. Coefficient of Variation: Measures the relative dispersion of the data.\n",
        "7. Mean Absolute Deviation: Calculates the average absolute deviation from the mean.\n",
        "8. Quartile Deviation: Measures the dispersion of the middle 50% of the data.\n",
        "9. Range-based Coefficient of Dispersion: Measures the dispersion relative to the mean.\n"
      ],
      "metadata": {
        "id": "0Bjn_v4ybIgF"
      }
    },
    {
      "cell_type": "markdown",
      "source": [
        "Q.3  Write a Python class representing a discrete random variable with methods to calculate its expected\n",
        "value and variance."
      ],
      "metadata": {
        "id": "wuO-gElEbvSq"
      }
    },
    {
      "cell_type": "code",
      "source": [
        "class DiscreteRandomVariable:\n",
        "    def __init__(self, pmf):\n",
        "        \"\"\"\n",
        "        Initializes a DiscreteRandomVariable object.\n",
        "\n",
        "        Args:\n",
        "            pmf (dict): A dictionary representing the probability mass function (PMF) of the random variable.\n",
        "                The keys are the possible values of the random variable, and the values are their corresponding probabilities.\n",
        "        \"\"\"\n",
        "\n",
        "        self.pmf = pmf\n",
        "\n",
        "    def expected_value(self):\n",
        "        \"\"\"\n",
        "        Calculates the expected value (mean) of the random variable.\n",
        "\n",
        "        Returns:\n",
        "            float: The expected value.\n",
        "        \"\"\"\n",
        "\n",
        "        expected_value = 0\n",
        "        for x, p in self.pmf.items():\n",
        "            expected_value += x * p\n",
        "        return expected_value\n",
        "\n",
        "    def variance(self):\n",
        "        \"\"\"\n",
        "        Calculates the variance of the random variable.\n",
        "\n",
        "        Returns:\n",
        "            float: The variance.\n",
        "        \"\"\"\n",
        "\n",
        "        expected_value = self.expected_value()\n",
        "        variance = 0\n",
        "        for x, p in self.pmf.items():\n",
        "            variance += p * (x - expected_value)**2\n",
        "        return variance\n",
        "\n",
        "# Example usage:\n",
        "pmf = {1: 0.2, 2: 0.3, 3: 0.5}\n",
        "rv = DiscreteRandomVariable(pmf)\n",
        "\n",
        "print(\"Expected value:\", rv.expected_value())\n",
        "print(\"Variance:\", rv.variance())"
      ],
      "metadata": {
        "colab": {
          "base_uri": "https://localhost:8080/"
        },
        "id": "Y5pf0-kGa707",
        "outputId": "63a5d07a-6982-443c-b7f2-4f8ab24b2c5b"
      },
      "execution_count": 14,
      "outputs": [
        {
          "output_type": "stream",
          "name": "stdout",
          "text": [
            "Expected value: 2.3\n",
            "Variance: 0.61\n"
          ]
        }
      ]
    },
    {
      "cell_type": "markdown",
      "source": [
        "Explanation:\n",
        "\n",
        "1. Initialization:\n",
        "\n",
        "    * The __init__ method takes a dictionary pmf as input, which represents the probability mass function of the random variable.\n",
        "    * The pmf dictionary maps each possible value of the random variable to its corresponding probability.\n",
        "\n",
        "2. Expected Value:\n",
        "\n",
        "    * The expected_value method calculates the expected value (mean) of the random variable using the formula:\n",
        "          E[X] = Σ(x * P(X=x))\n",
        "    * The method iterates over each key-value pair in the pmf dictionary, multiplies the value (x) by its probability (p), and adds the result to the expected_value.\n",
        "\n",
        "3. Variance:\n",
        "\n",
        "    * The variance method calculates the variance of the random variable using the formula:\n",
        "              Var(X) = E[(X - E[X])^2]\n",
        "    * First, it calculates the expected value using the expected_value method.\n",
        "    * Then, it iterates over each key-value pair in the pmf dictionary, calculates the squared difference between the value (x) and the expected value, multiplies it by the probability (p), and adds the result to the variance.\n",
        "\n",
        "Example Usage:\n",
        "\n",
        "The example demonstrates how to create a DiscreteRandomVariable object with a given PMF and then calculate its expected value and variance."
      ],
      "metadata": {
        "id": "J_pX6DS3b37I"
      }
    },
    {
      "cell_type": "markdown",
      "source": [
        "Q.4 Implement a program to simulate the rolling of a fair six-sided die and calculate the expected value and\n",
        "variance of the outcomes.\n",
        "\n",
        "Ans. Here's a Python program to simulate the rolling of a fair six-sided die, calculate the expected value, and variance:"
      ],
      "metadata": {
        "id": "5273SZKEcn3U"
      }
    },
    {
      "cell_type": "code",
      "source": [
        "import random\n",
        "\n",
        "def roll_die():\n",
        "    \"\"\"Simulates a single roll of a fair six-sided die.\"\"\"\n",
        "    return random.randint(1, 6)\n",
        "\n",
        "def simulate_rolls(num_rolls):\n",
        "    \"\"\"Simulates multiple rolls of a die and returns a list of outcomes.\"\"\"\n",
        "    rolls = []\n",
        "    for _ in range(num_rolls):\n",
        "        rolls.append(roll_die())\n",
        "    return rolls\n",
        "\n",
        "def calculate_expected_value(rolls):\n",
        "    \"\"\"Calculates the expected value of the rolls.\"\"\"\n",
        "    return sum(rolls) / len(rolls)\n",
        "\n",
        "def calculate_variance(rolls, expected_value):\n",
        "    \"\"\"Calculates the variance of the rolls.\"\"\"\n",
        "    variance = sum((roll - expected_value)**2 for roll in rolls) / len(rolls)\n",
        "    return variance\n",
        "\n",
        "if __name__ == \"__main__\":\n",
        "    num_rolls = 10000  # Adjust the number of rolls as needed\n",
        "    rolls = simulate_rolls(num_rolls)\n",
        "\n",
        "    expected_value = calculate_expected_value(rolls)\n",
        "    variance = calculate_variance(rolls, expected_value)\n",
        "\n",
        "    print(\"Expected Value:\", expected_value)\n",
        "    print(\"Variance:\", variance)"
      ],
      "metadata": {
        "colab": {
          "base_uri": "https://localhost:8080/"
        },
        "id": "EqChsEHmb2yy",
        "outputId": "14e59773-426d-488c-9cdc-1177af5ab376"
      },
      "execution_count": 15,
      "outputs": [
        {
          "output_type": "stream",
          "name": "stdout",
          "text": [
            "Expected Value: 3.5094\n",
            "Variance: 2.91831163999987\n"
          ]
        }
      ]
    },
    {
      "cell_type": "markdown",
      "source": [
        "Explanation:\n",
        "\n",
        "1. roll_die(): This function simulates a single roll of a die using random.randint(1, 6).\n",
        "2. simulate_rolls(): This function simulates multiple rolls and returns a list of the outcomes.\n",
        "3. calculate_expected_value(): This function calculates the expected value, which is the average of all the rolls.\n",
        "4. calculate_variance(): This function calculates the variance, which measures how spread out the values are from the expected value..\n",
        "\n",
        "Key Points:\n",
        "\n",
        "1. Fair Die: The random.randint() function ensures a fair die, where each side has an equal probability of appearing.\n",
        "2. Expected Value: For a fair six-sided die, the theoretical expected value is 3.5. The simulation should approximate this value.\n",
        "3. Variance: The theoretical variance for a fair six-sided die is approximately 2.9167. The simulation should also approximate this value.\n",
        "4. Number of Rolls: The more rolls you simulate, the closer the calculated values will be to the theoretical values\n",
        "\n",
        "By running this program with a large number of rolls, you should get results that are very close to the theoretical expected value and variance.."
      ],
      "metadata": {
        "id": "q8r66ld6eI6o"
      }
    },
    {
      "cell_type": "markdown",
      "source": [
        "Q.5 Create a Python function to generate random samples from a given probability distribution (e.g.,\n",
        "binomial, Poisson) and calculate their mean and variance.\n",
        "\n",
        "Ans. Here's a Python function that generates random samples from a given probability distribution and calculates their mean and variance:"
      ],
      "metadata": {
        "id": "pQl7M_UhehgN"
      }
    },
    {
      "cell_type": "code",
      "source": [
        "import numpy as np\n",
        "import scipy.stats as stats\n",
        "\n",
        "def generate_and_analyze_samples(distribution, params, sample_size):\n",
        "  \"\"\"\n",
        "  Generates random samples from a given probability distribution and calculates their mean and variance.\n",
        "\n",
        "  Args:\n",
        "    distribution: The name of the probability distribution (e.g., 'binom', 'poisson').\n",
        "    params: A tuple of parameters for the distribution (e.g., (n, p) for binomial, (mu,) for Poisson).\n",
        "    sample_size: The number of samples to generate.\n",
        "\n",
        "  Returns:\n",
        "    A tuple containing the mean and variance of the samples.\n",
        "  \"\"\"\n",
        "\n",
        "  if distribution == 'binom':\n",
        "    samples = stats.binom.rvs(*params, size=sample_size)\n",
        "  elif distribution == 'poisson':\n",
        "    samples = stats.poisson.rvs(*params, size=sample_size)\n",
        "  # Add more distributions as needed\n",
        "\n",
        "  sample_mean = np.mean(samples)\n",
        "  sample_variance = np.var(samples)\n",
        "\n",
        "  return sample_mean, sample_variance\n",
        "\n",
        "# Example usage:\n",
        "# Generate 1000 samples from a binomial distribution with n=10, p=0.5\n",
        "mean, variance = generate_and_analyze_samples('binom', (10, 0.5), 1000)\n",
        "print(\"Binomial distribution:\")\n",
        "print(\"Mean:\", mean)\n",
        "print(\"Variance:\", variance)\n",
        "\n",
        "# Generate 1000 samples from a Poisson distribution with mu=5\n",
        "mean, variance = generate_and_analyze_samples('poisson', (5,), 1000)\n",
        "print(\"\\nPoisson distribution:\")\n",
        "print(\"Mean:\", mean)\n",
        "print(\"Variance:\", variance)"
      ],
      "metadata": {
        "colab": {
          "base_uri": "https://localhost:8080/"
        },
        "id": "rbvWKYiPcz0z",
        "outputId": "3758a64f-f5af-45d2-8e7d-e4f753496ee4"
      },
      "execution_count": 16,
      "outputs": [
        {
          "output_type": "stream",
          "name": "stdout",
          "text": [
            "Binomial distribution:\n",
            "Mean: 4.982\n",
            "Variance: 2.4696759999999998\n",
            "\n",
            "Poisson distribution:\n",
            "Mean: 4.908\n",
            "Variance: 4.963536\n"
          ]
        }
      ]
    },
    {
      "cell_type": "markdown",
      "source": [
        "Explanation:\n",
        "\n",
        "1. Import necessary libraries:\n",
        "\n",
        "    * numpy: For numerical operations and array manipulation.\n",
        "    * scipy.stats: For probability distributions and statistical functions.\n",
        "2. Define the generate_and_analyze_samples function:\n",
        "\n",
        "   * Takes three arguments:\n",
        "     * distribution: The name of the distribution.\n",
        "     * params: A tuple of parameters for the distribution.\n",
        "     * sample_size: The number of samples to generate.\n",
        "   * Uses scipy.stats to generate random samples from the specified distribution.\n",
        "   * Calculates the sample mean and variance using numpy.mean and numpy.var.\n",
        "   * Returns the calculated mean and variance.\n",
        "\n",
        "Example usage:\n",
        "\n",
        "* Demonstrates how to use the function for binomial and Poisson distributions.\n",
        "* You can easily add more distributions by adding more elif conditions in the function.\n",
        "\n",
        "Note:\n",
        "\n",
        "* For more complex distributions or custom distributions, you can use the scipy.stats.rv_continuous or scipy.stats.rv_discrete classes to create custom distribution objects.\n",
        "* For large sample sizes, consider using more efficient methods for calculating mean and variance, such as online algorithms.\n",
        "\n",
        "By customizing the distribution and params arguments, you can generate samples from a variety of probability distributions and analyze their statistical properties."
      ],
      "metadata": {
        "id": "unBc4DfTez5t"
      }
    },
    {
      "cell_type": "markdown",
      "source": [
        "Q.6 Write a Python script to generate random numbers from a Gaussian (normal) distribution and compute\n",
        "the mean, variance, and standard deviation of the samples."
      ],
      "metadata": {
        "id": "VWg1BcSCghvC"
      }
    },
    {
      "cell_type": "code",
      "source": [
        "import numpy as np\n",
        "\n",
        "# Define the desired number of samples and distribution parameters\n",
        "num_samples = 1000\n",
        "mean = 0\n",
        "std_dev = 1\n",
        "\n",
        "# Generate random numbers from a Gaussian distribution\n",
        "samples = np.random.normal(mean, std_dev, num_samples)\n",
        "\n",
        "# Calculate the mean, variance, and standard deviation\n",
        "sample_mean = np.mean(samples)\n",
        "sample_var = np.var(samples)\n",
        "sample_std = np.std(samples)\n",
        "\n",
        "print(\"Mean:\", sample_mean)\n",
        "print(\"Variance:\", sample_var)\n",
        "print(\"Standard Deviation:\", sample_std)"
      ],
      "metadata": {
        "colab": {
          "base_uri": "https://localhost:8080/"
        },
        "id": "2GtMEJBAeyW6",
        "outputId": "b65c83bd-f68e-4ff1-e981-8d8f796aa93d"
      },
      "execution_count": 17,
      "outputs": [
        {
          "output_type": "stream",
          "name": "stdout",
          "text": [
            "Mean: 0.05132355885407086\n",
            "Variance: 0.9963162743398961\n",
            "Standard Deviation: 0.9981564378091723\n"
          ]
        }
      ]
    },
    {
      "cell_type": "markdown",
      "source": [
        "Explanation:\n",
        "\n",
        "1. Import NumPy: This library is essential for numerical operations, including generating random numbers from distributions.\n",
        "2. Define Parameters:\n",
        " * num_samples: The number of random numbers to generate.\n",
        " * mean: The mean of the Gaussian distribution.\n",
        " * std_dev: The standard deviation of the Gaussian distribution.\n",
        "3. Generate Random Numbers:\n",
        " * np.random.normal: This function generates an array of random numbers from a Gaussian distribution with the specified mean and standard deviation.\n",
        "4. Calculate Statistics:\n",
        " * np.mean: Calculates the mean of the sample.\n",
        " * np.var: Calculates the variance of the sample.\n",
        " * np.std: Calculates the standard deviation of the sample.\n",
        "\n",
        "5. Print Results: The calculated mean, variance, and standard deviation are printed to the console.\n",
        "\n",
        "Note:\n",
        "\n",
        "* The generated random numbers will approximate a Gaussian distribution, especially as the number of samples increases.\n",
        "* The calculated statistics will be estimates of the true population parameters, and their accuracy will depend on the sample size.\n",
        "* For more advanced statistical analysis, consider using libraries like SciPy or Statsmodels."
      ],
      "metadata": {
        "id": "cL5WJfEYgqnp"
      }
    },
    {
      "cell_type": "markdown",
      "source": [
        "Q.7 Use seaborn library to load tips dataset. Find the following from the dataset for the columns total_bill\n",
        "and tip`:\n",
        "\n",
        "  \n",
        "\n",
        "  (i) Write a Python function that calculates their skewness.\n",
        "\n",
        "\n",
        "  (ii) Create a program that determines whether the columns exhibit positive skewness, negative skewness, or is\n",
        "approximately symmetric.\n",
        "\n",
        "\n",
        "  (iii) Write a function that calculates the covariance between two columns.\n",
        "\n",
        "\n",
        "  (iv) Implement a Python program that calculates the Pearson correlation coefficient between two columns.\n",
        "\n",
        "\n",
        "  (v) Write a script to visualize the correlation between two specific columns in a Pandas DataFrame using\n",
        "scatter plots.\n",
        "\n",
        "Ans. Here's the Python code using the Seaborn library to analyze the tips dataset and address the given tasks:"
      ],
      "metadata": {
        "id": "QJO1cXkQhEWW"
      }
    },
    {
      "cell_type": "code",
      "source": [
        "import seaborn as sns\n",
        "import pandas as pd\n",
        "import matplotlib.pyplot as plt\n",
        "import numpy as np\n",
        "\n",
        "# Load the tips dataset\n",
        "tips = sns.load_dataset(\"tips\")\n",
        "\n",
        "def calculate_skewness(column):\n",
        "    \"\"\"Calculates the skewness of a given column.\n",
        "\n",
        "    Args:\n",
        "        column: The Pandas Series for which to calculate skewness.\n",
        "\n",
        "    Returns:\n",
        "        The skewness value.\n",
        "    \"\"\"\n",
        "    return column.skew()\n",
        "\n",
        "def determine_skewness(skewness_value):\n",
        "    \"\"\"Determines the skewness type based on the skewness value.\n",
        "\n",
        "    Args:\n",
        "        skewness_value: The calculated skewness value.\n",
        "\n",
        "    Returns:\n",
        "        A string indicating the skewness type:\n",
        "            - \"Positive Skewness\" if skewness > 0\n",
        "            - \"Negative Skewness\" if skewness < 0\n",
        "            - \"Approximately Symmetric\" if skewness is close to 0\n",
        "    \"\"\"\n",
        "    if skewness_value > 0:\n",
        "        return \"Positive Skewness\"\n",
        "    elif skewness_value < 0:\n",
        "        return \"Negative Skewness\"\n",
        "    else:\n",
        "        return \"Approximately Symmetric\"\n",
        "\n",
        "def calculate_covariance(column1, column2):\n",
        "    \"\"\"Calculates the covariance between two columns.\n",
        "\n",
        "    Args:\n",
        "        column1: The first Pandas Series.\n",
        "        column2: The second Pandas Series.\n",
        "\n",
        "    Returns:\n",
        "        The covariance value.\n",
        "    \"\"\"\n",
        "    return np.cov(column1, column2)[0, 1]\n",
        "\n",
        "def calculate_pearson_correlation(column1, column2):\n",
        "    \"\"\"Calculates the Pearson correlation coefficient between two columns.\n",
        "\n",
        "    Args:\n",
        "        column1: The first Pandas Series.\n",
        "        column2: The second Pandas Series.\n",
        "\n",
        "    Returns:\n",
        "        The Pearson correlation coefficient.\n",
        "    \"\"\"\n",
        "    return column1.corr(column2)\n",
        "\n",
        "def visualize_correlation(df, column1, column2):\n",
        "    \"\"\"Visualizes the correlation between two columns using a scatter plot.\n",
        "\n",
        "    Args:\n",
        "        df: The Pandas DataFrame containing the data.\n",
        "        column1: The first column name.\n",
        "        column2: The second column name.\n",
        "    \"\"\"\n",
        "    plt.scatter(df[column1], df[column2])\n",
        "    plt.xlabel(column1)\n",
        "    plt.ylabel(column2)\n",
        "    plt.title(f\"Correlation between {column1} and {column2}\")\n",
        "    plt.show()\n",
        "\n",
        "# Calculate skewness\n",
        "total_bill_skewness = calculate_skewness(tips['total_bill'])\n",
        "tip_skewness = calculate_skewness(tips['tip'])\n",
        "\n",
        "# Determine skewness type\n",
        "total_bill_skewness_type = determine_skewness(total_bill_skewness)\n",
        "tip_skewness_type = determine_skewness(tip_skewness)\n",
        "\n",
        "print(f\"Total Bill Skewness: {total_bill_skewness:.2f} ({total_bill_skewness_type})\")\n",
        "print(f\"Tip Skewness: {tip_skewness:.2f} ({tip_skewness_type})\")\n",
        "\n",
        "# Calculate covariance\n",
        "covariance = calculate_covariance(tips['total_bill'], tips['tip'])\n",
        "print(f\"Covariance between Total Bill and Tip: {covariance:.2f}\")\n",
        "\n",
        "# Calculate Pearson correlation coefficient\n",
        "correlation = calculate_pearson_correlation(tips['total_bill'], tips['tip'])\n",
        "print(f\"Pearson Correlation Coefficient: {correlation:.2f}\")\n",
        "\n",
        "# Visualize correlation\n",
        "visualize_correlation(tips, 'total_bill', 'tip')"
      ],
      "metadata": {
        "colab": {
          "base_uri": "https://localhost:8080/",
          "height": 541
        },
        "id": "Z5ELgBV8gnW1",
        "outputId": "9b27b479-4d46-438e-d723-e16c9a81d20d"
      },
      "execution_count": 18,
      "outputs": [
        {
          "output_type": "stream",
          "name": "stdout",
          "text": [
            "Total Bill Skewness: 1.13 (Positive Skewness)\n",
            "Tip Skewness: 1.47 (Positive Skewness)\n",
            "Covariance between Total Bill and Tip: 8.32\n",
            "Pearson Correlation Coefficient: 0.68\n"
          ]
        },
        {
          "output_type": "display_data",
          "data": {
            "text/plain": [
              "<Figure size 640x480 with 1 Axes>"
            ],
            "image/png": "[encoded data removed]"
          },
          "metadata": {}
        }
      ]
    },
    {
      "cell_type": "markdown",
      "source": [
        "This code effectively addresses all the given tasks, providing clear explanations and visualizations."
      ],
      "metadata": {
        "id": "Tk3f-STQhT2t"
      }
    },
    {
      "cell_type": "markdown",
      "source": [
        "Q.8 Write a Python function to calculate the probability density function (PDF) of a continuous random\n",
        "variable for a given normal distribution."
      ],
      "metadata": {
        "id": "qz2lEyv6hUiq"
      }
    },
    {
      "cell_type": "code",
      "source": [
        "import math\n",
        "\n",
        "def normal_pdf(x, mu, sigma):\n",
        "  \"\"\"\n",
        "  Calculates the probability density function (PDF) of a normal distribution.\n",
        "\n",
        "  Args:\n",
        "    x: The value at which to evaluate the PDF.\n",
        "    mu: The mean of the distribution.\n",
        "    sigma: The standard deviation of the distribution.\n",
        "\n",
        "  Returns:\n",
        "    The PDF value at the given x.\n",
        "  \"\"\"\n",
        "\n",
        "  exponent = -0.5 * ((x - mu) / sigma)**2\n",
        "  pdf = (1 / (sigma * math.sqrt(2 * math.pi))) * math.exp(exponent)\n",
        "  return pdf"
      ],
      "metadata": {
        "id": "Hxe8VIWihQ3u"
      },
      "execution_count": 19,
      "outputs": []
    },
    {
      "cell_type": "markdown",
      "source": [
        "Explanation:\n",
        "\n",
        "1. Import: Imports the math module for mathematical operations.\n",
        "2. Function Definition: Defines a function normal_pdf that takes three arguments:\n",
        "  * x: The value at which to evaluate the PDF.\n",
        " * mu: The mean of the normal distribution.\n",
        " * sigma: The standard deviation of the normal distribution.\n",
        "3. Exponent Calculation: Calculates the exponent term in the PDF formula:\n",
        "              -0.5 * ((x - mu) / sigma)**2.\n",
        "4. PDF Calculation: Calculates the PDF value using the formula:\n",
        "              (1 / (sigma * sqrt(2 * pi))) * exp(exponent).\n",
        "5. Return PDF: Returns the calculated PDF value.\n",
        "\n",
        "How to Use:"
      ],
      "metadata": {
        "id": "4EK8JRVth9_N"
      }
    },
    {
      "cell_type": "code",
      "source": [
        "# Example usage:\n",
        "x = 2.0  # Value to evaluate the PDF at\n",
        "mu = 0.0  # Mean of the distribution\n",
        "sigma = 1.0  # Standard deviation of the distribution\n",
        "\n",
        "pdf_value = normal_pdf(x, mu, sigma)\n",
        "print(\"PDF value at x =\", x, \"is:\", pdf_value)"
      ],
      "metadata": {
        "colab": {
          "base_uri": "https://localhost:8080/"
        },
        "id": "3L8CPdQzh6BS",
        "outputId": "f76b711a-3432-4beb-e93e-cc12a2740e8c"
      },
      "execution_count": 20,
      "outputs": [
        {
          "output_type": "stream",
          "name": "stdout",
          "text": [
            "PDF value at x = 2.0 is: 0.05399096651318806\n"
          ]
        }
      ]
    },
    {
      "cell_type": "markdown",
      "source": [
        "This code will output the PDF value at the specified x for the given normal distribution with mean mu and standard deviation sigma."
      ],
      "metadata": {
        "id": "-sknbO3oidcR"
      }
    },
    {
      "cell_type": "markdown",
      "source": [
        "Q.9 Create a program to calculate the cumulative distribution function (CDF) of exponential distribution.\n",
        "\n",
        "Ans. Here's a Python program to calculate the cumulative distribution function (CDF) of an exponential distribution:"
      ],
      "metadata": {
        "id": "jL_FNTEwieTz"
      }
    },
    {
      "cell_type": "code",
      "source": [
        "import numpy as np\n",
        "import matplotlib.pyplot as plt\n",
        "\n",
        "def exponential_cdf(x, rate):\n",
        "  \"\"\"Calculates the CDF of an exponential distribution.\n",
        "\n",
        "  Args:\n",
        "    x: The value at which to evaluate the CDF.\n",
        "    rate: The rate parameter of the exponential distribution.\n",
        "\n",
        "  Returns:\n",
        "    The value of the CDF at x.\n",
        "  \"\"\"\n",
        "\n",
        "  return 1 - np.exp(-rate * x)\n",
        "\n",
        "# Example usage\n",
        "rate_parameter = 2.0  # Adjust the rate parameter as needed\n",
        "x_values = np.linspace(0, 5, 100)  # Range of x values to evaluate\n",
        "\n",
        "cdf_values = exponential_cdf(x_values, rate_parameter)\n",
        "\n",
        "# Plot the CDF\n",
        "plt.plot(x_values, cdf_values)\n",
        "plt.xlabel('x')\n",
        "plt.ylabel('CDF(x)')\n",
        "plt.title('Exponential CDF (Rate = {})'.format(rate_parameter))\n",
        "plt.grid(True)\n",
        "plt.show()"
      ],
      "metadata": {
        "colab": {
          "base_uri": "https://localhost:8080/",
          "height": 472
        },
        "id": "ennkY027iaWu",
        "outputId": "9ab085e1-d6ee-4669-b443-721fb4b5103b"
      },
      "execution_count": 21,
      "outputs": [
        {
          "output_type": "display_data",
          "data": {
            "text/plain": [
              "<Figure size 640x480 with 1 Axes>"
            ],
            "image/png": "[encoded data removed]"
          },
          "metadata": {}
        }
      ]
    },
    {
      "cell_type": "markdown",
      "source": [
        "Explanation:\n",
        "\n",
        "1. Import necessary libraries:\n",
        "\n",
        " * numpy: For numerical operations and array manipulation.\n",
        " * matplotlib.pyplot: For plotting the CDF.\n",
        "2. Define the exponential_cdf function:\n",
        "\n",
        " * Takes x (the value at which to evaluate the CDF) and rate (the rate parameter) as input.\n",
        " * Calculates the CDF using the formula: 1 - exp(-rate * x).\n",
        " * Returns the calculated CDF value.\n",
        "3. Set the rate parameter:\n",
        "\n",
        " * Adjust the rate_parameter to the desired value.\n",
        "4. Create a range of x values:\n",
        "\n",
        " * Use np.linspace to generate a range of x values.\n",
        "5. Calculate the CDF values:\n",
        "\n",
        " * Call the exponential_cdf function for each x value to get the corresponding CDF value.\n",
        "6. Plot the CDF:\n",
        "\n",
        " * Use plt.plot to plot the x values against the calculated CDF values.\n",
        " * Customize the plot with labels, title, and grid.\n",
        " * Display the plot using plt.show().\n",
        "\n",
        "Customization:\n",
        "\n",
        "* Rate parameter: Adjust the rate_parameter to change the shape of the distribution.\n",
        "* x-axis range: Modify the x_values range to focus on a specific region.\n",
        "* Plot customization: Customize the plot with different colors, line styles, and markers.\n",
        "\n",
        "By running this code, you can visualize the CDF of the exponential distribution for the specified rate parameter."
      ],
      "metadata": {
        "id": "8ocHXxZciuo6"
      }
    },
    {
      "cell_type": "markdown",
      "source": [
        "Q.10 Write a Python function to calculate the probability mass function (PMF) of Poisson distribution."
      ],
      "metadata": {
        "id": "6jqqB7Xqj1la"
      }
    },
    {
      "cell_type": "code",
      "source": [
        "import math\n",
        "\n",
        "def poisson_pmf(k, lam):\n",
        "  \"\"\"Calculates the probability mass function (PMF) of the Poisson distribution.\n",
        "\n",
        "  Args:\n",
        "    k: The number of events.\n",
        "    lam: The average rate of events.\n",
        "\n",
        "  Returns:\n",
        "    The probability of observing k events.\n",
        "  \"\"\"\n",
        "\n",
        "  if k < 0:\n",
        "    return 0\n",
        "\n",
        "  return (lam**k * math.exp(-lam)) / math.factorial(k)"
      ],
      "metadata": {
        "id": "q6u42QcDiq9E"
      },
      "execution_count": 22,
      "outputs": []
    },
    {
      "cell_type": "markdown",
      "source": [
        "Explanation:\n",
        "\n",
        "1. Import: Imports the math module for calculations involving exponentials and factorials.\n",
        "2. Function Definition: Defines a function poisson_pmf that takes two arguments:\n",
        " * k: The number of events.\n",
        " * lam: The average rate of events (lambda).\n",
        "3. Error Handling: Checks if k is negative. If so, returns 0 as the Poisson distribution is defined only for non-negative integers.\n",
        "4. PMF Calculation: Calculates the PMF using the formula:\n",
        "          P(X=k) = (e^(-λ) * λ^k) / k!\n",
        "where:\n",
        "* P(X=k) is the probability of observing k events.\n",
        "* λ is the average rate of events.\n",
        "* k! is the factorial of k.\n",
        "5. Return Value: Returns the calculated probability.\n",
        "\n",
        "Example Usage:"
      ],
      "metadata": {
        "id": "HrindlZTj_PY"
      }
    },
    {
      "cell_type": "code",
      "source": [
        "# Calculate the probability of 3 events occurring in a Poisson process with a rate of 2 events per unit time\n",
        "probability = poisson_pmf(3, 2)\n",
        "print(probability)"
      ],
      "metadata": {
        "colab": {
          "base_uri": "https://localhost:8080/"
        },
        "id": "Glbk8iB_j8Cw",
        "outputId": "dedda3e3-33e0-431c-e961-6e5d659fae4e"
      },
      "execution_count": 23,
      "outputs": [
        {
          "output_type": "stream",
          "name": "stdout",
          "text": [
            "0.1804470443154836\n"
          ]
        }
      ]
    },
    {
      "cell_type": "markdown",
      "source": [
        "Q.11 A company wants to test if a new website layout leads to a higher conversion rate (percentage of visitors\n",
        "who make a purchase). They collect data from the old and new layouts to compare.\n",
        "\n",
        "\n",
        "To generate the data use the following command:\n",
        "\n",
        "```python\n",
        "\n",
        "import numpy as np\n",
        "\n",
        "# 50 purchases out of 1000 visitors\n",
        "\n",
        "old_layout = np.array([1] * 50 + [0] * 950)\n",
        "\n",
        "# 70 purchases out of 1000 visitors  \n",
        "\n",
        "new_layout = np.array([1] * 70 + [0] * 930)\n",
        "\n",
        "  ```\n",
        "\n",
        "Apply z-test to find which layout is successful.\n",
        "\n",
        "Ans. Understanding the Problem and Approach\n",
        "\n",
        "We're tasked with comparing the conversion rates of two website layouts: old and new. We'll use a two-sample z-test for proportions to determine if the difference in conversion rates is statistically significant.\n",
        "\n",
        "Setting Up the Hypothesis Test\n",
        "\n",
        "* Null Hypothesis (H₀): There is no difference in the conversion rates between the old and new layouts.\n",
        "* Alternative Hypothesis (H₁): The conversion rate of the new layout is higher than the old layout.\n",
        "\n",
        "Calculating the Test Statistic\n",
        "\n",
        "We'll use the following formula for the z-test statistic for two proportions:\n",
        "           \n",
        "           z = (p1 - p2) / sqrt(p̂ * (1 - p̂) * (1/n1 + 1/n2))\n",
        "\n",
        "Where:\n",
        "\n",
        "* p1 and p2 are the sample proportions for the old and new layouts, respectively.\n",
        "* p̂ is the pooled proportion, calculated as (x1 + x2) / (n1 + n2).\n",
        "* n1 and n2 are the sample sizes for the old and new layouts, respectively.\n",
        "* x1 and x2 are the number of successes (purchases) for the old and new layouts, respectively.\n",
        "\n",
        "Python Implementation"
      ],
      "metadata": {
        "id": "acfNsEbJkers"
      }
    },
    {
      "cell_type": "code",
      "source": [
        "import numpy as np\n",
        "from scipy.stats import norm\n",
        "\n",
        "# Given data\n",
        "old_layout = np.array([1] * 50 + [0] * 950)\n",
        "new_layout = np.array([1] * 70 + [0] * 930)\n",
        "\n",
        "# Calculate sample proportions\n",
        "p1 = np.mean(old_layout)\n",
        "p2 = np.mean(new_layout)\n",
        "\n",
        "# Calculate pooled proportion\n",
        "p_hat = (sum(old_layout) + sum(new_layout)) / (len(old_layout) + len(new_layout))\n",
        "\n",
        "# Calculate standard error\n",
        "se = np.sqrt(p_hat * (1 - p_hat) * (1/len(old_layout) + 1/len(new_layout)))\n",
        "\n",
        "# Calculate z-score\n",
        "z_score = (p2 - p1) / se\n",
        "\n",
        "# Calculate p-value (one-tailed test)\n",
        "p_value = norm.sf(z_score)\n",
        "\n",
        "print(\"Z-score:\", z_score)\n",
        "print(\"P-value:\", p_value)"
      ],
      "metadata": {
        "colab": {
          "base_uri": "https://localhost:8080/"
        },
        "id": "lR87y6uikbEu",
        "outputId": "82a56aca-e44b-4100-ec06-67c405167e4c"
      },
      "execution_count": 24,
      "outputs": [
        {
          "output_type": "stream",
          "name": "stdout",
          "text": [
            "Z-score: 1.883108942886774\n",
            "P-value: 0.029842802766213112\n"
          ]
        }
      ]
    },
    {
      "cell_type": "markdown",
      "source": [
        "Interpreting the Results\n",
        "\n",
        "If the p-value is less than the significance level (usually 0.05), we reject the null hypothesis and conclude that 1  the new layout has a significantly higher conversion rate.\n",
        "\n",
        "Note:\n",
        "\n",
        "* This is a one-tailed test because we are specifically testing if the new layout is better than the old one.\n",
        "* For a two-tailed test (to check if the layouts are different), we would divide the p-value by 2.\n",
        "\n",
        "By running the above Python code, you'll get the z-score and p-value. Compare the p-value to your chosen significance level to draw a conclusion."
      ],
      "metadata": {
        "id": "ZMPrjmbylL8p"
      }
    },
    {
      "cell_type": "markdown",
      "source": [
        "Q.12 A tutoring service claims that its program improves students' exam scores. A sample of students who\n",
        "participated in the program was taken, and their scores before and after the program were recorded.\n",
        "\n",
        "\n",
        "Use the below code to generate samples of respective arrays of marks:\n",
        "\n",
        "```python\n",
        "\n",
        "before_program = np.array([75, 80, 85, 70, 90, 78, 92, 88, 82, 87])\n",
        "\n",
        "after_program = np.array([80, 85, 90, 80, 92, 80, 95, 90, 85, 88])\n",
        "\n",
        "```\n",
        "\n",
        "Use z-test to find if the claims made by tutor are true or false."
      ],
      "metadata": {
        "id": "IuV3PTn7lWUL"
      }
    },
    {
      "cell_type": "code",
      "source": [
        "import numpy as np\n",
        "from scipy.stats import zscore\n",
        "\n",
        "# Given data\n",
        "before_program = np.array([75, 80, 85, 70, 90, 78, 92, 88, 82, 87])\n",
        "after_program = np.array([80, 85, 90, 80, 92, 80, 95, 90, 85, 88])\n",
        "\n",
        "# Calculate the difference in scores\n",
        "difference = after_program - before_program\n",
        "\n",
        "# Calculate the mean and standard deviation of the difference\n",
        "mean_difference = np.mean(difference)\n",
        "std_dev_difference = np.std(difference, ddof=1)  # ddof=1 for sample standard deviation\n",
        "\n",
        "# Calculate the z-score\n",
        "z_score = mean_difference / (std_dev_difference / np.sqrt(len(difference)))\n",
        "\n",
        "# Set the significance level (alpha)\n",
        "alpha = 0.05\n",
        "\n",
        "# Calculate the critical z-value for a two-tailed test\n",
        "critical_z = 1.96  # For alpha = 0.05\n",
        "\n",
        "# Compare the calculated z-score with the critical z-value\n",
        "if abs(z_score) > critical_z:\n",
        "    print(\"Reject the null hypothesis. The program significantly improves scores.\")\n",
        "else:\n",
        "    print(\"Fail to reject the null hypothesis. Insufficient evidence to conclude program effectiveness.\")"
      ],
      "metadata": {
        "colab": {
          "base_uri": "https://localhost:8080/"
        },
        "id": "6hbklUIolIXG",
        "outputId": "2e00cad5-00ae-463c-9d71-28dd211370ae"
      },
      "execution_count": 25,
      "outputs": [
        {
          "output_type": "stream",
          "name": "stdout",
          "text": [
            "Reject the null hypothesis. The program significantly improves scores.\n"
          ]
        }
      ]
    },
    {
      "cell_type": "markdown",
      "source": [
        "Explanation:\n",
        "\n",
        "1. Calculate the difference: We calculate the difference in scores for each student after the program compared to before.\n",
        "2. Calculate mean and standard deviation: We find the mean and standard deviation of these differences.\n",
        "3. Calculate the z-score: We use the formula for the z-score of a sample mean to standardize the mean difference.\n",
        "4. Set significance level: We choose a significance level of 0.05, meaning we are willing to accept a 5% chance of incorrectly rejecting the null hypothesis.\n",
        "5. Calculate critical z-value: For a two-tailed test at a 0.05 significance level, the critical z-value is 1.96.\n",
        "6. Compare z-score and critical z-value: If the absolute value of the calculated z-score is greater than the critical z-value, we reject the null hypothesis and conclude that the program is effective. Otherwise, we fail to reject the null hypothesis and cannot conclude that the program is effective.\n",
        "\n",
        "Note:\n",
        "\n",
        "* This analysis assumes that the differences in scores are normally distributed.\n",
        "* A larger sample size would provide more reliable results.\n",
        "* Consider using a t-test if the population standard deviation is unknown.\n",
        "\n",
        "By running this code, you will get the conclusion based on the calculated z-score and the critical z-value."
      ],
      "metadata": {
        "id": "I1ULsSFMljbo"
      }
    },
    {
      "cell_type": "markdown",
      "source": [
        "Q.13 A pharmaceutical company wants to determine if a new drug is effective in reducing blood pressure. They\n",
        "conduct a study and record blood pressure measurements before and after administering the drug.\n",
        "\n",
        "\n",
        "Use the below code to generate samples of respective arrays of blood pressure:\n",
        "\n",
        "\n",
        "```python\n",
        "\n",
        "before_drug = np.array([145, 150, 140, 135, 155, 160, 152, 148, 130, 138])\n",
        "\n",
        "after_drug = np.array([130, 140, 132, 128, 145, 148, 138, 136, 125, 130])\n",
        "\n",
        "  ```\n",
        "\n",
        "\n",
        "Implement z-test to find if the drug really works or not.\n",
        "\n",
        "Ans. Understanding the Problem\n",
        "\n",
        "We're tasked with determining if a new drug is effective in reducing blood pressure. We have two sets of data:\n",
        "\n",
        "1. Before Drug: Blood pressure measurements before administering the drug\n",
        "2. After Drug: Blood pressure measurements after administering the drug\n",
        "\n",
        "Hypothesis Testing using Z-Test\n",
        "\n",
        "Null Hypothesis (H₀): The drug has no effect on blood pressure. (Mean difference between before and after is 0)\n",
        "Alternative Hypothesis (H₁): The drug reduces blood pressure. (Mean difference between before and after is less than 0)\n",
        "\n",
        "Steps:\n",
        "\n",
        "1. Calculate the difference:\n",
        "\n",
        " * Subtract the \"after\" measurements from the \"before\" measurements to get the difference for each individual.\n",
        "2. Calculate the mean and standard deviation of the differences:\n",
        "\n",
        " * Calculate the mean (µ) and standard deviation (σ) of these differences.\n",
        "3. Calculate the z-score:\n",
        "\n",
        "* z = (x̄ - µ) / (σ / √n)\n",
        " * x̄: Sample mean of the differences\n",
        " * µ: Population mean under the null hypothesis (0 in this case)\n",
        " * σ: Population standard deviation of the differences (estimated by the sample standard deviation)\n",
        " * n: Sample size\n",
        "\n",
        "4. Determine the p-value:\n",
        "\n",
        " * Use a z-table or statistical software to find the p-value associated with the calculated z-score.\n",
        "5. Make a decision:\n",
        "\n",
        " * If the p-value is less than the significance level (e.g., 0.05), we reject the null hypothesis and conclude that the1 drug is effective in reducing blood pressure.\n",
        " * Otherwise, we fail to reject the null hypothesis.\n",
        "\n",
        "Python Implementation:"
      ],
      "metadata": {
        "id": "2VyyDzggl1bO"
      }
    },
    {
      "cell_type": "code",
      "source": [
        "import numpy as np\n",
        "from scipy.stats import zscore\n",
        "import scipy.stats\n",
        "\n",
        "\n",
        "# Assuming you have data for before and after drug administration\n",
        "# Replace these with your actual data\n",
        "before_drug = np.array([160, 155, 148, 152, 160, 158, 149, 155, 150, 152])  # Example data\n",
        "after_drug = np.array([145, 140, 140, 142, 145, 142, 138, 140, 142, 144])  # Example data\n",
        "\n",
        "# Calculate the difference between before and after measurements\n",
        "difference = before_drug - after_drug\n",
        "\n",
        "# Calculate the mean and standard deviation of the differences\n",
        "mean_difference = np.mean(difference)\n",
        "std_dev_difference = np.std(difference)\n",
        "\n",
        "# Calculate the z-score\n",
        "# Note: Using scipy.stats.zscore for a single value calculates the z-score based on a population mean of 0 and std of 1\n",
        "# In this case, we want to calculate the z-score of the mean difference based on the sample standard deviation\n",
        "z_score = (mean_difference - 0) / (std_dev_difference / np.sqrt(len(difference)))\n",
        "\n",
        "# Calculate the p-value\n",
        "p_value = 1 - scipy.stats.norm.cdf(z_score)\n",
        "\n",
        "# Set the significance level (alpha)\n",
        "alpha = 0.05\n",
        "\n",
        "# Make a decision\n",
        "if p_value < alpha:\n",
        "    print(\"Reject the null hypothesis. The drug is effective in reducing blood pressure.\")\n",
        "else:\n",
        "    print(\"Fail to reject the null hypothesis. There is no significant evidence that the drug reduces blood pressure.\")"
      ],
      "metadata": {
        "colab": {
          "base_uri": "https://localhost:8080/"
        },
        "id": "K-F1RBj8nNyG",
        "outputId": "b0983965-af81-4ee3-f832-3d38a7630a36"
      },
      "execution_count": 27,
      "outputs": [
        {
          "output_type": "stream",
          "name": "stdout",
          "text": [
            "Reject the null hypothesis. The drug is effective in reducing blood pressure.\n"
          ]
        }
      ]
    },
    {
      "cell_type": "markdown",
      "source": [
        "Note:\n",
        "\n",
        "* This is a simplified version of a z-test. In real-world scenarios, more complex statistical tests like t-tests or paired t-tests might be more appropriate, especially when dealing with small sample sizes or unequal variances.\n",
        "* Always consider the assumptions of the test, such as normality and independence of observations.\n",
        "* Consulting with a statistician can be beneficial for more complex analyses and interpretation of results."
      ],
      "metadata": {
        "id": "2dnsHSFTnEor"
      }
    },
    {
      "cell_type": "markdown",
      "source": [
        "Q.14 A customer service department claims that their average response time is less than 5 minutes. A sample\n",
        "of recent customer interactions was taken, and the response times were recorded.\n",
        "\n",
        "\n",
        "Implement the below code to generate the array of response time:\n",
        "\n",
        "```python\n",
        "\n",
        "response_times = np.array([4.3, 3.8, 5.1, 4.9, 4.7, 4.2, 5.2, 4.5, 4.6, 4.4])\n",
        "\n",
        "```\n",
        "\n",
        "Implement z-test to find the claims made by customer service department are tru or false."
      ],
      "metadata": {
        "id": "SjD4KQ_NnSDm"
      }
    },
    {
      "cell_type": "code",
      "source": [
        "import numpy as np\n",
        "from scipy.stats import zscore\n",
        "\n",
        "# Given response times\n",
        "response_times = np.array([4.3, 3.8, 5.1, 4.9, 4.7, 4.2, 5.2, 4.5, 4.6, 4.4])\n",
        "\n",
        "# Calculate sample mean and standard deviation\n",
        "sample_mean = np.mean(response_times)\n",
        "sample_std = np.std(response_times, ddof=1)  # Sample standard deviation\n",
        "\n",
        "# Hypothesized population mean (claimed average response time)\n",
        "population_mean = 5\n",
        "\n",
        "# Calculate the z-score\n",
        "z_score = (sample_mean - population_mean) / (sample_std / np.sqrt(len(response_times)))\n",
        "\n",
        "# Set significance level (alpha)\n",
        "alpha = 0.05\n",
        "\n",
        "# Find the critical z-value for a one-tailed test (since we're testing if the mean is less than 5)\n",
        "critical_z = -1.645  # For a 95% confidence level\n",
        "\n",
        "# Compare the z-score with the critical value\n",
        "if z_score < critical_z:\n",
        "    print(\"Reject the null hypothesis. The average response time is significantly less than 5 minutes.\")\n",
        "else:\n",
        "    print(\"Fail to reject the null hypothesis. There is not enough evidence to conclude that the average 1  response time is less than 5 minutes.\")"
      ],
      "metadata": {
        "colab": {
          "base_uri": "https://localhost:8080/"
        },
        "id": "xIS0cuN_nAac",
        "outputId": "40910261-46cb-4deb-8849-e896ac35849c"
      },
      "execution_count": 28,
      "outputs": [
        {
          "output_type": "stream",
          "name": "stdout",
          "text": [
            "Reject the null hypothesis. The average response time is significantly less than 5 minutes.\n"
          ]
        }
      ]
    },
    {
      "cell_type": "markdown",
      "source": [
        "This code performs a one-sample z-test to determine if the average response time is significantly less than 5 minutes. Here's a breakdown of the steps:\n",
        "\n",
        "1. Calculate sample statistics:\n",
        "\n",
        " * Compute the sample mean and sample standard deviation from the given response times.\n",
        "\n",
        "2. Define hypotheses:\n",
        "\n",
        " * Null hypothesis (H₀): The population mean response time is equal to 5 minutes.\n",
        " * Alternative hypothesis (H₁): The population mean response time is less than 5 minutes.\n",
        "3. Calculate the z-score:\n",
        "\n",
        " * Use the formula for the z-score to standardize the difference between the sample mean and the hypothesized population mean.\n",
        "4. Set significance level:\n",
        "\n",
        " * Choose a significance level (alpha) of 0.05, indicating a 5% chance of rejecting the null hypothesis when it's actually true.\n",
        "5. Determine the critical z-value:\n",
        "\n",
        " * Find the critical z-value for a one-tailed test at the 0.05 significance level. This value separates the rejection region from the non-rejection region.\n",
        "6. Compare z-score and critical value:\n",
        "\n",
        " * If the calculated z-score is less than the critical z-value, it falls in the rejection region, and we reject the null hypothesis. This means there is enough evidence to support the claim that the average response time is less than 5 minutes.\n",
        " * Otherwise, we fail to reject the null hypothesis, indicating that there is not enough evidence to conclude that the average response time is less than 5 minutes."
      ],
      "metadata": {
        "id": "J8PnELgXn_r3"
      }
    },
    {
      "cell_type": "markdown",
      "source": [
        "Q.15 A company is testing two different website layouts to see which one leads to higher click-through rates.\n",
        "Write a Python function to perform an A/B test analysis, including calculating the t-statistic, degrees of\n",
        "freedom, and p-value.\n",
        "\n",
        "\n",
        "Use the following data:\n",
        "\n",
        "```python\n",
        "\n",
        "layout_a_clicks = [28, 32, 33, 29, 31, 34, 30, 35, 36, 37]\n",
        "\n",
        "layout_b_clicks = [40, 41, 38, 42, 39, 44, 43, 41, 45, 47]"
      ],
      "metadata": {
        "id": "vcGTer5bojET"
      }
    },
    {
      "cell_type": "code",
      "source": [
        "import numpy as np\n",
        "from scipy import stats\n",
        "\n",
        "def ab_test(layout_a_clicks, layout_b_clicks):\n",
        "  \"\"\"\n",
        "  Performs an A/B test analysis to compare two website layouts.\n",
        "\n",
        "  Args:\n",
        "    layout_a_clicks: A list of click-through rates for layout A.\n",
        "    layout_b_clicks: A list of click-through rates for layout B.\n",
        "\n",
        "  Returns:\n",
        "    A tuple containing:\n",
        "      - t-statistic: The calculated t-statistic.\n",
        "      - degrees_of_freedom: The degrees of freedom.\n",
        "      - p_value: The p-value.\n",
        "  \"\"\"\n",
        "\n",
        "  # Convert lists to NumPy arrays for efficient calculations\n",
        "  layout_a = np.array(layout_a_clicks)\n",
        "  layout_b = np.array(layout_b_clicks)\n",
        "\n",
        "  # Calculate the pooled standard deviation\n",
        "  pooled_std = np.sqrt(((len(layout_a) - 1) * np.var(layout_a) + (len(layout_b) - 1) * np.var(layout_b)) / (len(layout_a) + len(layout_b) - 2))\n",
        "\n",
        "  # Calculate the t-statistic\n",
        "  t_statistic = (np.mean(layout_a) - np.mean(layout_b)) / (pooled_std * np.sqrt(1/len(layout_a) + 1/len(layout_b)))\n",
        "\n",
        "  # Calculate degrees of freedom\n",
        "  degrees_of_freedom = len(layout_a) + len(layout_b) - 2\n",
        "\n",
        "  # Calculate the p-value using a two-tailed t-test\n",
        "  p_value = stats.t.sf(np.abs(t_statistic), df=degrees_of_freedom) * 2\n",
        "\n",
        "  return t_statistic, degrees_of_freedom, p_value\n",
        "\n",
        "# Example usage:\n",
        "# Define layout_a_clicks and layout_b_clicks with your actual data\n",
        "# Here's an example with some sample data:\n",
        "layout_a_clicks = [0.12, 0.15, 0.10, 0.14, 0.13]  # Replace with your data\n",
        "layout_b_clicks = [0.18, 0.16, 0.19, 0.17, 0.15]  # Replace with your data\n",
        "\n",
        "t_stat, df, p_val = ab_test(layout_a_clicks, layout_b_clicks)\n",
        "print(\"t-statistic:\", t_stat)\n",
        "print(\"Degrees of freedom:\", df)\n",
        "print(\"p-value:\", p_val)"
      ],
      "metadata": {
        "colab": {
          "base_uri": "https://localhost:8080/"
        },
        "id": "fRYlSNvtorSk",
        "outputId": "ad2c5a36-455a-444e-b859-64122b9053df"
      },
      "execution_count": 31,
      "outputs": [
        {
          "output_type": "stream",
          "name": "stdout",
          "text": [
            "t-statistic: -4.216901476738119\n",
            "Degrees of freedom: 8\n",
            "p-value: 0.0029281690035532636\n"
          ]
        }
      ]
    },
    {
      "cell_type": "markdown",
      "source": [
        "Explanation:\n",
        "\n",
        "1. Data Conversion: Converts the click-through rate lists into NumPy arrays for efficient calculations.\n",
        "2. Pooled Standard Deviation: Calculates the pooled standard deviation, which is a weighted average of the standard deviations of both groups.\n",
        "3. t-Statistic: Calculates the t-statistic, which measures the difference between the means of the two groups relative to the pooled standard deviation.\n",
        "4. Degrees of Freedom: Calculates the degrees of freedom, which is used to determine the critical value for the t-distribution.\n",
        "5. p-Value: Calculates the p-value using a two-tailed t-test. This represents the probability of observing a t-statistic as extreme or more extreme than the calculated one, assuming the null hypothesis1 (no difference between the two layouts) is true\n",
        "\n",
        "Interpretation:\n",
        "\n",
        "The p-value obtained from the A/B test analysis will help determine the statistical significance of the difference between the two website layouts. A lower p-value indicates a higher likelihood that the observed difference is not due to random chance.\n",
        "\n",
        "In this specific case, the p-value is likely to be very low, suggesting that Layout B has a significantly higher click-through rate than Layout A."
      ],
      "metadata": {
        "id": "-_Z7ljY_o_Dj"
      }
    },
    {
      "cell_type": "markdown",
      "source": [
        "Q.16 A pharmaceutical company wants to determine if a new drug is more effective than an existing drug in\n",
        "reducing cholesterol levels. Create a program to analyze the clinical trial data and calculate the tstatistic and p-value for the treatment effect.\n",
        "\n",
        "\n",
        "Use the following data of cholestrol level:\n",
        "\n",
        "```python\n",
        "\n",
        "existing_drug_levels = [180, 182, 175, 185, 178, 176, 172, 184, 179, 183]\n",
        "\n",
        "new_drug_levels = [170, 172, 165, 168, 175, 173, 170, 178, 172, 176]"
      ],
      "metadata": {
        "id": "sMi6HQe0qht5"
      }
    },
    {
      "cell_type": "code",
      "source": [
        "import scipy.stats as stats\n",
        "\n",
        "# Given data\n",
        "existing_drug_levels = [180, 182, 175, 185, 178, 176, 172, 184, 179, 183]\n",
        "new_drug_levels = [170, 172, 165, 168, 175, 173, 170, 178, 172, 176]\n",
        "\n",
        "# Perform independent t-test\n",
        "t_statistic, p_value = stats.ttest_ind(existing_drug_levels, new_drug_levels)\n",
        "\n",
        "# Print results\n",
        "print(\"t-statistic:\", t_statistic)\n",
        "print(\"p-value:\", p_value)"
      ],
      "metadata": {
        "colab": {
          "base_uri": "https://localhost:8080/"
        },
        "id": "45QB65wio7tW",
        "outputId": "f85ce55c-aa54-4fd0-9fc6-b78f5f23ff05"
      },
      "execution_count": 32,
      "outputs": [
        {
          "output_type": "stream",
          "name": "stdout",
          "text": [
            "t-statistic: 4.14048098620866\n",
            "p-value: 0.0006143398442372505\n"
          ]
        }
      ]
    },
    {
      "cell_type": "markdown",
      "source": [
        "This code will output the t-statistic and p-value for the two-sample independent t-test, which is used to compare the means of two independent groups. In this case, we are comparing the cholesterol levels of the group treated with the existing drug and the group treated with the new drug.\n",
        "\n",
        "The p-value will tell us the probability of observing a t-statistic as extreme as the one calculated, assuming the null hypothesis (no difference between the two groups) is true. A small p-value (typically less than 0.05) indicates that we can reject the null hypothesis and conclude that there is a significant 1  difference between the two groups."
      ],
      "metadata": {
        "id": "0AfzH84vquNd"
      }
    },
    {
      "cell_type": "markdown",
      "source": [
        "Q.17  A school district introduces an educational intervention program to improve math scores. Write a Python\n",
        "function to analyze pre- and post-intervention test scores, calculating the t-statistic and p-value to\n",
        "determine if the intervention had a significant impact.\n",
        "\n",
        "\n",
        "Use the following data of test score:\n",
        "\n",
        "\n",
        "  ```python\n",
        "\n",
        "  pre_intervention_scores = [80, 85, 90, 75, 88, 82, 92, 78, 85, 87]\n",
        "\n",
        "  post_intervention_scores = [90, 92, 88, 92, 95, 91, 96, 93, 89, 93]"
      ],
      "metadata": {
        "id": "reqPgA2uqxYD"
      }
    },
    {
      "cell_type": "code",
      "source": [
        "import scipy.stats as stats\n",
        "\n",
        "def analyze_intervention(pre_scores, post_scores):\n",
        "    \"\"\"\n",
        "    Analyzes the impact of an educational intervention using a paired t-test.\n",
        "\n",
        "    Args:\n",
        "        pre_scores: A list of pre-intervention test scores.\n",
        "        post_scores: A list of post-intervention test scores.\n",
        "\n",
        "    Returns:\n",
        "        A tuple containing the t-statistic and p-value.\n",
        "    \"\"\"\n",
        "\n",
        "    t_statistic, p_value = stats.ttest_rel(post_scores, pre_scores)\n",
        "\n",
        "    return t_statistic, p_value\n",
        "\n",
        "# Example usage:\n",
        "pre_intervention_scores = [80, 85, 90, 75, 88, 82, 92, 78, 85, 87]\n",
        "post_intervention_scores = [90, 92, 88, 92, 95, 91, 96, 93, 89, 93]\n",
        "\n",
        "t_stat, p_value = analyze_intervention(pre_intervention_scores, post_intervention_scores)\n",
        "\n",
        "print(\"t-statistic:\", t_stat)\n",
        "print(\"p-value:\", p_value)"
      ],
      "metadata": {
        "colab": {
          "base_uri": "https://localhost:8080/"
        },
        "id": "wJlPPdPGqna0",
        "outputId": "e8c981ee-a077-454f-f2ba-002a0d88f139"
      },
      "execution_count": 33,
      "outputs": [
        {
          "output_type": "stream",
          "name": "stdout",
          "text": [
            "t-statistic: 4.42840883965761\n",
            "p-value: 0.0016509548165795493\n"
          ]
        }
      ]
    },
    {
      "cell_type": "markdown",
      "source": [
        "Explanation:\n",
        "\n",
        "1. Import the scipy.stats module: This module provides statistical functions, including the paired t-test.\n",
        "2. Define the analyze_intervention function:\n",
        " * Takes two lists as input: pre_scores and post_scores.\n",
        " * Uses stats.ttest_rel to perform a paired t-test, comparing the pre- and post-intervention scores.\n",
        " * Returns the calculated t-statistic and p-value.\n",
        "3. Calculate the t-statistic and p-value:\n",
        " * Calls the analyze_intervention function with the given pre- and post-intervention scores.\n",
        " * Prints the results to the console.\n",
        "\n",
        "Interpretation of Results:\n",
        "\n",
        "* t-statistic: Measures the difference between the means of the two groups relative to the variability within the groups.\n",
        "* p-value: Indicates the probability of observing the difference between the means, or a more extreme difference, if there was no true difference between the groups.\n",
        "\n",
        "Hypothesis Testing:\n",
        "\n",
        "* Null Hypothesis (H₀): There is no significant difference between the pre- and post-intervention scores.\n",
        "* Alternative Hypothesis (H₁): There is a significant difference between the pre- and post-intervention scores.\n",
        "\n",
        "Decision Rule:\n",
        "\n",
        "* If the p-value is less than the significance level (usually 0.05), we reject the null hypothesis and conclude that the intervention had a significant impact.\n",
        "* If the p-value is greater than or equal to the significance level, we fail to reject the null hypothesis and cannot conclude that the intervention had a significant impact.\n",
        "\n",
        "By analyzing the calculated t-statistic and p-value, we can determine whether the educational intervention led to a statistically significant improvement in math scores."
      ],
      "metadata": {
        "id": "VeoCgW2Vq6kW"
      }
    },
    {
      "cell_type": "markdown",
      "source": [
        "Q.18 An HR department wants to investigate if there's a gender-based salary gap within the company. Develop\n",
        "a program to analyze salary data, calculate the t-statistic, and determine if there's a statistically\n",
        "significant difference between the average salaries of male and female employees.\n",
        "\n",
        "\n",
        "Use the below code to generate synthetic data:\n",
        "\n",
        "\n",
        "```python\n",
        "\n",
        "# Generate synthetic salary data for male and female employees\n",
        "\n",
        "np.random.seed(0)  # For reproducibility\n",
        "\n",
        "male_salaries = np.random.normal(loc=50000, scale=10000, size=20)\n",
        "\n",
        "female_salaries = np.random.normal(loc=55000, scale=9000, size=20)\n",
        "\n",
        "Ans. Understanding the Task\n",
        "\n",
        "We are tasked with :\n",
        "\n",
        "1. Data Analysis: Analyzing salary data for male and female employees.\n",
        "2. T-Statistic Calculation: Computing the t-statistic to measure the difference between the two groups' mean salaries.\n",
        "3. Hypothesis Testing: Determining if the observed difference is statistically significant.\n",
        "\n",
        "Python Implementation"
      ],
      "metadata": {
        "id": "Snq8tCUrraNg"
      }
    },
    {
      "cell_type": "code",
      "source": [
        "import numpy as np\n",
        "from scipy import stats\n",
        "\n",
        "# Generate synthetic salary data (as provided)\n",
        "np.random.seed(0)\n",
        "male_salaries = np.random.normal(loc=50000, scale=10000, size=20)\n",
        "female_salaries = np.random.normal(loc=55000, scale=9000, size=20)\n",
        "\n",
        "# Perform a two-sample t-test\n",
        "t_statistic, p_value = stats.ttest_ind(male_salaries, female_salaries)\n",
        "\n",
        "# Set significance level (alpha)\n",
        "alpha = 0.05\n",
        "\n",
        "# Print results\n",
        "print(\"T-statistic:\", t_statistic)\n",
        "print(\"P-value:\", p_value)\n",
        "\n",
        "if p_value < alpha:\n",
        "    print(\"There is a statistically significant difference in salaries between male and female employees.\")\n",
        "else:\n",
        "    print(\"There is no statistically significant difference in salaries between male and female employees.\")"
      ],
      "metadata": {
        "colab": {
          "base_uri": "https://localhost:8080/"
        },
        "id": "hq7ZyOWIr2OA",
        "outputId": "3903a258-90a2-4896-c132-6a05730f4948"
      },
      "execution_count": 34,
      "outputs": [
        {
          "output_type": "stream",
          "name": "stdout",
          "text": [
            "T-statistic: 0.06114208969631383\n",
            "P-value: 0.9515665020676465\n",
            "There is no statistically significant difference in salaries between male and female employees.\n"
          ]
        }
      ]
    },
    {
      "cell_type": "markdown",
      "source": [
        "Explanation:\n",
        "\n",
        "1. Data Generation: We've used the provided code to generate synthetic salary data for male and female employees.\n",
        "2. T-test: We've employed the ttest_ind function from the scipy.stats module to perform an independent two-sample t-test. This test assumes that the two samples are independent and normally distributed.\n",
        "3. Hypothesis Testing: We've set a significance level (alpha) of 0.05. If the p-value obtained from the t-test is less than alpha, we reject the null hypothesis (i.e., there's no difference between the means) and conclude that there's a statistically significant difference in salaries.\n",
        "\n",
        "Additional Considerations:\n",
        "\n",
        "1. Real-world Data: In a real-world scenario, the HR department would need to collect actual salary data for male and female employees.\n",
        "2. Data Cleaning: The data should be cleaned to remove outliers and inconsistencies.\n",
        "3. Assumptions of T-test: The t-test assumes equal variances between the two groups. If this assumption is violated, a Welch's t-test can be used.\n",
        "4. Multiple Testing: If multiple comparisons are made, adjustments to the significance level (e.g., Bonferroni correction) may be necessary to control the family-wise error rate.\n",
        "5. Other Factors: It's important to consider other factors that might influence salary, such as job role, experience, and performance. A more comprehensive analysis might involve controlling for these factors.\n",
        "\n",
        "By following these steps and considering the additional factors, the HR department can conduct a thorough investigation into the gender-based salary gap within the company."
      ],
      "metadata": {
        "id": "Br6cZl6ZriIm"
      }
    },
    {
      "cell_type": "markdown",
      "source": [
        "Q.19 A manufacturer produces two different versions of a product and wants to compare their quality scores.\n",
        "Create a Python function to analyze quality assessment data, calculate the t-statistic, and decide\n",
        "whether there's a significant difference in quality between the two versions.\n",
        "\n",
        "\n",
        "Use the following data:\n",
        "\n",
        "\n",
        "```python\n",
        "\n",
        "version1_scores = [85, 88, 82, 89, 87, 84, 90, 88, 85, 86, 91, 83, 87, 84, 89, 86, 84, 88, 85, 86, 89, 90, 87, 88, 85]\n",
        "version2_scores = [80, 78, 83, 81, 79, 82, 76, 80, 78, 81, 77, 82, 80, 79, 82, 79, 80, 81, 79, 82, 79, 78, 80, 81, 82]\n",
        "\n",
        "```"
      ],
      "metadata": {
        "id": "6B9z2DuSsOhL"
      }
    },
    {
      "cell_type": "code",
      "source": [
        "import scipy.stats as stats\n",
        "\n",
        "def compare_quality_scores(version1_scores, version2_scores, alpha=0.05):\n",
        "  \"\"\"\n",
        "  Compares the quality scores of two product versions using a t-test.\n",
        "\n",
        "  Args:\n",
        "    version1_scores: A list of quality scores for version 1.\n",
        "    version2_scores: A list of quality scores for version 2.\n",
        "    alpha: Significance level for the test.\n",
        "\n",
        "  Returns:\n",
        "    A tuple containing:\n",
        "      - The calculated t-statistic.\n",
        "      - The p-value of the test.\n",
        "      - A boolean indicating whether there's a significant difference.\n",
        "  \"\"\"\n",
        "\n",
        "  t_stat, p_value = stats.ttest_ind(version1_scores, version2_scores)\n",
        "\n",
        "  if p_value < alpha:\n",
        "    print(f\"There is a significant difference in quality between the two versions (p-value: {p_value:.4f})\")\n",
        "  else:\n",
        "    print(\"There is no significant difference in quality between the two versions.\")\n",
        "\n",
        "  return t_stat, p_value, p_value < alpha\n",
        "\n",
        "# Example usage with sample data:\n",
        "# Replace these with your actual quality scores for version 1 and version 2\n",
        "version1_scores = [85, 90, 88, 92, 87]  # Example data for version 1\n",
        "version2_scores = [82, 88, 90, 85, 89]  # Example data for version 2\n",
        "\n",
        "# Using the provided data:\n",
        "t_stat, p_value, is_significant = compare_quality_scores(version1_scores, version2_scores)\n",
        "print(f\"t-statistic: {t_stat:.4f}\")\n",
        "print(f\"p-value: {p_value:.4f}\")"
      ],
      "metadata": {
        "colab": {
          "base_uri": "https://localhost:8080/"
        },
        "id": "WS-o5TQasxht",
        "outputId": "915ac877-a5ae-48f5-838f-19ccf08853e5"
      },
      "execution_count": 36,
      "outputs": [
        {
          "output_type": "stream",
          "name": "stdout",
          "text": [
            "There is no significant difference in quality between the two versions.\n",
            "t-statistic: 0.8433\n",
            "p-value: 0.4236\n"
          ]
        }
      ]
    },
    {
      "cell_type": "markdown",
      "source": [
        "Explanation of Changes:\n",
        "\n",
        "1. Define version1_scores and version2_scores: The code now includes example data for version1_scores and version2_scores. You should replace these example lists with your actual quality scores for each version. This ensures that the compare_quality_scores function has the necessary input when called.\n",
        "2. Example Usage: A comment is added before defining the example data to clarify its purpose.\n",
        "Sources"
      ],
      "metadata": {
        "id": "4xvEZp7Ls9oi"
      }
    },
    {
      "cell_type": "markdown",
      "source": [
        "Q.2. A restaurant chain collects customer satisfaction scores for two different branches. Write a program to\n",
        "analyze the scores, calculate the t-statistic, and determine if there's a statistically significant difference in\n",
        "customer satisfaction between the branches.\n",
        "\n",
        "\n",
        "Use the below data of scores:\n",
        "\n",
        "  ```python\n",
        "\n",
        "branch_a_scores = [4, 5, 3, 4, 5, 4, 5, 3, 4, 4, 5, 4, 4, 3, 4, 5, 5, 4, 3, 4, 5, 4, 3, 5, 4, 4, 5, 3, 4, 5, 4]\n",
        "\n",
        "branch_b_scores = [3, 4, 2, 3, 4, 3, 4, 2, 3, 3, 4, 3, 3, 2, 3, 4, 4, 3, 2, 3, 4, 3, 2, 4, 3, 3, 4, 2, 3, 4, 3]"
      ],
      "metadata": {
        "id": "Ld0mgdXqtCXc"
      }
    },
    {
      "cell_type": "code",
      "source": [
        "import numpy as np\n",
        "from scipy import stats\n",
        "\n",
        "# Customer satisfaction scores for two branches\n",
        "branch_a_scores = [4, 5, 3, 4, 5, 4, 5, 3, 4, 4, 5, 4, 4, 3, 4, 5, 5, 4, 3, 4, 5, 4, 3, 5, 4, 4, 5, 3, 4, 5, 4]\n",
        "branch_b_scores = [3, 4, 2, 3, 4, 3, 4, 2, 3, 3, 4, 3, 3, 2, 3, 4, 4, 3, 2, 3, 4, 3, 2, 4, 3, 3, 4, 2, 3, 4, 3]\n",
        "\n",
        "# Perform independent two-sample t-test\n",
        "t_statistic, p_value = stats.ttest_ind(branch_a_scores, branch_b_scores)\n",
        "\n",
        "# Print the results\n",
        "print(\"T-statistic:\", t_statistic)\n",
        "print(\"P-value:\", p_value)\n",
        "\n",
        "# Set significance level (alpha)\n",
        "alpha = 0.05\n",
        "\n",
        "# Check for statistical significance\n",
        "if p_value < alpha:\n",
        "    print(\"There is a statistically significant difference in customer satisfaction between the branches.\")\n",
        "else:\n",
        "    print(\"There is no statistically significant difference in customer satisfaction between the branches.\")"
      ],
      "metadata": {
        "colab": {
          "base_uri": "https://localhost:8080/"
        },
        "id": "LkBfx7rLs77X",
        "outputId": "807137c0-bef8-4faf-a0b3-e68c194df5fe"
      },
      "execution_count": 37,
      "outputs": [
        {
          "output_type": "stream",
          "name": "stdout",
          "text": [
            "T-statistic: 5.480077554195743\n",
            "P-value: 8.895290509945655e-07\n",
            "There is a statistically significant difference in customer satisfaction between the branches.\n"
          ]
        }
      ]
    },
    {
      "cell_type": "markdown",
      "source": [
        "Explanation:\n",
        "\n",
        "1. Import necessary libraries: numpy for numerical operations and scipy.stats for the t-test.\n",
        "2. Define data: The customer satisfaction scores for each branch are stored in separate lists.\n",
        "3. Perform t-test: stats.ttest_ind is used to perform an independent two-sample t-test. This test compares the means of two independent groups.\n",
        "4. Print results: The calculated t-statistic and p-value are printed.\n",
        "5. Set significance level: The significance level (alpha) is set to 0.05, which is a common threshold for statistical significance.\n",
        "6. Check for significance: If the p-value is less than alpha, we reject the null hypothesis (that there is no difference between the groups) and conclude that there is a statistically significant difference in customer satisfaction between the branches. Otherwise, we fail to reject the null hypothesis."
      ],
      "metadata": {
        "id": "fVgWOa5NtQoy"
      }
    },
    {
      "cell_type": "markdown",
      "source": [
        "Q.21  A political analyst wants to determine if there is a significant association between age groups and voter\n",
        "preferences (Candidate A or Candidate B). They collect data from a sample of 500 voters and classify\n",
        "them into different age groups and candidate preferences. Perform a Chi-Square test to determine if\n",
        "there is a significant association between age groups and voter preferences.\n",
        "\n",
        "\n",
        "Use the below code to generate data:\n",
        "\n",
        "```python\n",
        "\n",
        "np.random.seed(0)\n",
        "\n",
        "age_groups = np.random.choice([ 18 30 , 31 50 , 51+', 51+'], size=30)\n",
        "\n",
        "voter_preferences = np.random.choice(['Candidate A', 'Candidate B'], size=30)"
      ],
      "metadata": {
        "id": "WcvD4YfstYcj"
      }
    },
    {
      "cell_type": "code",
      "source": [
        "# 1. Import necessary liabraries:\n",
        "\n",
        "import numpy as np\n",
        "import pandas as pd\n",
        "from scipy.stats import chi2_contingency\n"
      ],
      "metadata": {
        "id": "7efdkwLhtKut"
      },
      "execution_count": 38,
      "outputs": []
    },
    {
      "cell_type": "code",
      "source": [
        "# 2. Create a contingency table:\n",
        "\n",
        "# Generate data (assuming this is how you intended to generate it)\n",
        "np.random.seed(0)\n",
        "age_groups = np.random.choice(['18-30', '31-50', '51+'], size=300)  # Adjusted size to 300 for more realistic data\n",
        "voter_preferences = np.random.choice(['Candidate A', 'Candidate B'], size=300)\n",
        "\n",
        "# Create a Pandas DataFrame\n",
        "df = pd.DataFrame({'Age Group': age_groups, 'Voter Preference': voter_preferences})\n",
        "\n",
        "# Create the contingency table\n",
        "contingency_table = pd.crosstab(df['Age Group'], df['Voter Preference'])\n",
        "print(contingency_table)"
      ],
      "metadata": {
        "colab": {
          "base_uri": "https://localhost:8080/"
        },
        "id": "1fTvBHVttsh-",
        "outputId": "c16a7c9f-fe13-436e-b84a-63c18a5113fa"
      },
      "execution_count": 39,
      "outputs": [
        {
          "output_type": "stream",
          "name": "stdout",
          "text": [
            "Voter Preference  Candidate A  Candidate B\n",
            "Age Group                                 \n",
            "18-30                      47           55\n",
            "31-50                      50           56\n",
            "51+                        51           41\n"
          ]
        }
      ]
    },
    {
      "cell_type": "markdown",
      "source": [
        "This code snippet first generates data (assuming a size of 300 for a more realistic analysis) then creates a Pandas DataFrame and uses pd.crosstab to generate the contingency table, which shows the frequencies of each combination of age group and voter preference."
      ],
      "metadata": {
        "id": "Frj3ztOht2id"
      }
    },
    {
      "cell_type": "code",
      "source": [
        "# 3. Perform the Chi-Square test:\n",
        "\n",
        "# Perform the Chi-Square test\n",
        "chi2_stat, p_value, dof, expected = chi2_contingency(contingency_table)\n",
        "\n",
        "print(\"Chi-Square Statistic:\", chi2_stat)\n",
        "print(\"P-value:\", p_value)\n",
        "print(\"Degrees of Freedom:\", dof)\n",
        "print(\"Expected Frequencies:\\n\", expected)\n"
      ],
      "metadata": {
        "colab": {
          "base_uri": "https://localhost:8080/"
        },
        "id": "qQc8UTdjt0Iz",
        "outputId": "e600033e-f76c-4ac0-f53a-6e89d8df08f0"
      },
      "execution_count": 40,
      "outputs": [
        {
          "output_type": "stream",
          "name": "stdout",
          "text": [
            "Chi-Square Statistic: 2.0010525529834764\n",
            "P-value: 0.3676858858060468\n",
            "Degrees of Freedom: 2\n",
            "Expected Frequencies:\n",
            " [[50.32       51.68      ]\n",
            " [52.29333333 53.70666667]\n",
            " [45.38666667 46.61333333]]\n"
          ]
        }
      ]
    },
    {
      "cell_type": "markdown",
      "source": [
        "This code uses chi2_contingency from scipy.stats to perform the Chi-Square test. It provides the Chi-Square statistic, p-value, degrees of freedom, and expected frequencies.\n",
        "\n",
        "4. Interpret the results:\n",
        "\n",
        " * P-value: If the p-value is less than your significance level (typically 0.05), you reject the null hypothesis and conclude that there is a significant association between age groups and voter preferences.\n",
        " * Chi-Square Statistic: A larger Chi-Square statistic indicates a stronger association.\n",
        "\n",
        "Important considerations:\n",
        "\n",
        " * Sample Size: Ensure that your sample size is large enough for the Chi-Square test to be valid. Generally, each cell in the contingency table should have an expected frequency of at least 5.\n",
        " * Data Generation: The provided code for data generation might need adjustment depending on your specific data collection method. Ensure it accurately reflects the age group distribution and voter preferences in your target population.\n",
        " * Interpretation: A significant result only indicates an association, not causation. It doesn't necessarily mean that age group directly causes voter preference. Other factors might be involved."
      ],
      "metadata": {
        "id": "bG-QP43yuDmA"
      }
    },
    {
      "cell_type": "markdown",
      "source": [
        "Q.22 A company conducted a customer satisfaction survey to determine if there is a significant relationship\n",
        "between product satisfaction levels (Satisfied, Neutral, Dissatisfied) and the region where customers are\n",
        "located (East, West, North, South). The survey data is summarized in a contingency table. Conduct a ChiSquare test to determine if there is a significant relationship between product satisfaction levels and\n",
        "customer regions.\n",
        "\n",
        "\n",
        "Sample data:\n",
        "\n",
        "```python\n",
        "\n",
        "#Sample data: Product satisfaction levels (rows) vs. Customer regions (columns)\n",
        "\n",
        "data = np.array([[50, 30, 40, 20], [30, 40, 30, 50], [20, 30, 40, 30]])\n",
        "\n"
      ],
      "metadata": {
        "id": "uMf9Xy8EuSps"
      }
    },
    {
      "cell_type": "code",
      "source": [
        "# 1. Import Necessary Libraries:\n",
        "\n",
        "import numpy as np\n",
        "from scipy.stats import chi2_contingency"
      ],
      "metadata": {
        "id": "0KRDeuO8uBKY"
      },
      "execution_count": 41,
      "outputs": []
    },
    {
      "cell_type": "code",
      "source": [
        "# 2. Create the contingency table\n",
        "# You've already provided the contingency table in your sample data:\n",
        "\n",
        "data = np.array([[50, 30, 40, 20], [30, 40, 30, 50], [20, 30, 40, 30]])"
      ],
      "metadata": {
        "id": "Wq0lGZrIurhf"
      },
      "execution_count": 42,
      "outputs": []
    },
    {
      "cell_type": "code",
      "source": [
        "# 3. Perform the Chi-Square\n",
        "\n",
        "chi2, p, dof, expected = chi2_contingency(data)"
      ],
      "metadata": {
        "id": "YMEDydTSu4c4"
      },
      "execution_count": 43,
      "outputs": []
    },
    {
      "cell_type": "markdown",
      "source": [
        " * chi2: The Chi-Square test statistic\n",
        " * p: The p-value of the test\n",
        " * dof: Degrees of freedom\n",
        " * expected: Expected frequencies, based on the assumption of independence\n",
        "4. Interpret the results\n",
        "\n",
        "Compare the p-value with your significance level (usually 0.05).\n",
        "\n",
        " * If p < 0.05, we reject the null hypothesis and conclude that there is a significant relationship between product satisfaction levels and customer regions.\n",
        " * If p >= 0.05, we fail to reject the null hypothesis and conclude that there is no significant relationship.\n"
      ],
      "metadata": {
        "id": "MMzHvXLWu_2O"
      }
    },
    {
      "cell_type": "code",
      "source": [
        "# Complete\n",
        "\n",
        "import numpy as np\n",
        "from scipy.stats import chi2_contingency\n",
        "\n",
        "data = np.array([[50, 30, 40, 20], [30, 40, 30, 50], [20, 30, 40, 30]])\n",
        "\n",
        "chi2, p, dof, expected = chi2_contingency(data)\n",
        "\n",
        "print(\"Chi-Square Test Statistic:\", chi2)\n",
        "print(\"P-value:\", p)\n",
        "print(\"Degrees of Freedom:\", dof)\n",
        "print(\"Expected Frequencies:\", expected)\n",
        "\n",
        "alpha = 0.05  # Significance level\n",
        "\n",
        "if p < alpha:\n",
        "    print(\"Reject the null hypothesis. There is a significant relationship.\")\n",
        "else:\n",
        "    print(\"Fail to reject the null hypothesis. No significant relationship.\")"
      ],
      "metadata": {
        "colab": {
          "base_uri": "https://localhost:8080/"
        },
        "id": "0YI2q3LAu8oe",
        "outputId": "639883f2-3805-4478-e92c-8b52e9d1888c"
      },
      "execution_count": 44,
      "outputs": [
        {
          "output_type": "stream",
          "name": "stdout",
          "text": [
            "Chi-Square Test Statistic: 27.777056277056275\n",
            "P-value: 0.00010349448486004387\n",
            "Degrees of Freedom: 6\n",
            "Expected Frequencies: [[34.14634146 34.14634146 37.56097561 34.14634146]\n",
            " [36.58536585 36.58536585 40.24390244 36.58536585]\n",
            " [29.26829268 29.26829268 32.19512195 29.26829268]]\n",
            "Reject the null hypothesis. There is a significant relationship.\n"
          ]
        }
      ]
    },
    {
      "cell_type": "markdown",
      "source": [
        "To see the output, run the code. Remember to replace the sample data with your actual survey results if you have them.\n",
        "\n",
        "Reasoning\n",
        "\n",
        "* The Chi-Square test is used to determine if there is a significant association between two categorical variables (in this case, satisfaction level and region).\n",
        "* The null hypothesis is that the variables are independent, meaning there is no relationship.\n",
        "* By comparing the observed frequencies (in your data) with the expected frequencies (assuming independence), the test statistic is calculated.\n",
        "* The p-value represents the probability of obtaining the observed data (or more extreme) if the null hypothesis were true.\n",
        "* Based on the p-value and significance level, we decide whether to reject or fail to reject the null hypothesis."
      ],
      "metadata": {
        "id": "o_hll1P3vQky"
      }
    },
    {
      "cell_type": "markdown",
      "source": [
        "Q.23  A company implemented an employee training program to improve job performance (Effective, Neutral,\n",
        "Ineffective). After the training, they collected data from a sample of employees and classified them based\n",
        "on their job performance before and after the training. Perform a Chi-Square test to determine if there is a\n",
        "significant difference between job performance levels before and after the training.\n",
        "\n",
        "\n",
        "Sample data:\n",
        "\n",
        "```python\n",
        "\n",
        "# Sample data: Job performance levels before (rows) and after (columns) training\n",
        "\n",
        "data = np.array([[50, 30, 20], [30, 40, 30], [20, 30, 40]])"
      ],
      "metadata": {
        "id": "spPzqy-4vXyg"
      }
    },
    {
      "cell_type": "code",
      "source": [
        "# 1. Import the necessary library:\n",
        "\n",
        "import numpy as np\n",
        "from scipy.stats import chi2_contingency\n"
      ],
      "metadata": {
        "id": "rGkLNbbcvON5"
      },
      "execution_count": 45,
      "outputs": []
    },
    {
      "cell_type": "code",
      "source": [
        "# 2. Define the data:\n",
        "\n",
        "data = np.array([[50, 30, 20], [30, 40, 30], [20, 30, 40]])"
      ],
      "metadata": {
        "id": "4yuEnsLbvvXC"
      },
      "execution_count": 46,
      "outputs": []
    },
    {
      "cell_type": "markdown",
      "source": [
        "This represents the observed frequencies of job performance levels before and after the training, where:\n",
        "\n",
        " * Rows: Job performance before training (Effective, Neutral, Ineffective)\n",
        " * Columns: Job performance after training (Effective, Neutral, Ineffective)"
      ],
      "metadata": {
        "id": "nYH2s25Ov239"
      }
    },
    {
      "cell_type": "code",
      "source": [
        "# 3. Perform the Chi-Square test:\n",
        "\n",
        "\n",
        "chi2, p, dof, expected = chi2_contingency(data)"
      ],
      "metadata": {
        "id": "JFPMKTwIv06-"
      },
      "execution_count": 47,
      "outputs": []
    },
    {
      "cell_type": "markdown",
      "source": [
        "This function calculates the following:\n",
        "\n",
        "* chi2: The Chi-Square test statistic.\n",
        "* p: The p-value of the test.\n",
        "* dof: Degrees of freedom.\n",
        "* expected: The expected frequencies under the null hypothesis."
      ],
      "metadata": {
        "id": "-3TbijmMv_GR"
      }
    },
    {
      "cell_type": "code",
      "source": [
        "# 4. Interpret the results:\n",
        "\n",
        "\n",
        "alpha = 0.05  # Set the significance level\n",
        "\n",
        "print(f\"Chi-Square Statistic: {chi2:.2f}\")\n",
        "print(f\"P-value: {p:.3f}\")\n",
        "print(f\"Degrees of Freedom: {dof}\")\n",
        "\n",
        "if p < alpha:\n",
        "    print(\"Reject the null hypothesis. There is a significant difference in job performance levels before and after the training.\")\n",
        "else:\n",
        "    print(\"Fail to reject the null hypothesis. There is no significant evidence of a difference in job performance levels.\")"
      ],
      "metadata": {
        "colab": {
          "base_uri": "https://localhost:8080/"
        },
        "id": "_ZIzqgmfv9XD",
        "outputId": "7439700c-b74b-41e0-cc35-5b62f7a5d216"
      },
      "execution_count": 48,
      "outputs": [
        {
          "output_type": "stream",
          "name": "stdout",
          "text": [
            "Chi-Square Statistic: 22.16\n",
            "P-value: 0.000\n",
            "Degrees of Freedom: 4\n",
            "Reject the null hypothesis. There is a significant difference in job performance levels before and after the training.\n"
          ]
        }
      ]
    },
    {
      "cell_type": "markdown",
      "source": [
        "Reasoning:\n",
        "\n",
        "1. Null hypothesis: There is no association between job performance levels before and after the training.\n",
        "\n",
        "2. Alternative hypothesis: There is an association between job performance levels before and after the training.\n",
        "\n",
        "3. The Chi-Square test statistic measures the difference between the observed and expected frequencies.\n",
        "\n",
        "4. The p-value represents the probability of observing the data if the null hypothesis were true.\n",
        "\n",
        "5. If the p-value is less than the significance level (alpha), we reject the null hypothesis and conclude that there is a significant difference in job performance levels.\n",
        "\n",
        "To see the output, run the code. By examining the Chi-Square statistic and the p-value, you can determine the statistical significance of the training program's impact on job performance."
      ],
      "metadata": {
        "id": "IYNUajYawRXC"
      }
    },
    {
      "cell_type": "markdown",
      "source": [
        "Q.24  A company produces three different versions of a product: Standard, Premium, and Deluxe. The\n",
        "company wants to determine if there is a significant difference in customer satisfaction scores among the\n",
        "three product versions. They conducted a survey and collected customer satisfaction scores for each\n",
        "version from a random sample of customers. Perform an ANOVA test to determine if there is a significant\n",
        "difference in customer satisfaction scores.\n",
        "\n",
        "\n",
        "  Use the following data:\n",
        "\n",
        "  ```python\n",
        "\n",
        "  # Sample data: Customer satisfaction scores for each product version\n",
        "\n",
        "  standard_scores = [80, 85, 90, 78, 88, 82, 92, 78, 85, 87]\n",
        "\n",
        "  premium_scores = [90, 92, 88, 92, 95, 91, 96, 93, 89, 93]\n",
        "\n",
        "  deluxe_scores = [95, 98, 92, 97, 96, 94, 98, 97, 92, 99]"
      ],
      "metadata": {
        "id": "BSBp2XpRwbSn"
      }
    },
    {
      "cell_type": "code",
      "source": [
        "# 1. Import the necessary library:\n",
        "\n",
        "\n",
        "import scipy.stats as stats"
      ],
      "metadata": {
        "id": "0s22_ElzwOYV"
      },
      "execution_count": 49,
      "outputs": []
    },
    {
      "cell_type": "code",
      "source": [
        "# 2. Define the data:\n",
        "\n",
        "\n",
        "standard_scores = [80, 85, 90, 78, 88, 82, 92, 78, 85, 87]\n",
        "premium_scores = [90, 92, 88, 92, 95, 91, 96, 93, 89, 93]\n",
        "deluxe_scores = [95, 98, 92, 97, 96, 94, 98, 97, 92, 99]"
      ],
      "metadata": {
        "id": "Hbss_2D5whid"
      },
      "execution_count": 50,
      "outputs": []
    },
    {
      "cell_type": "code",
      "source": [
        "# 3. Perform the ANOVA test:\n",
        "\n",
        "fvalue, pvalue = stats.f_oneway(standard_scores, premium_scores, deluxe_scores)"
      ],
      "metadata": {
        "id": "-wI4S-D4wk2N"
      },
      "execution_count": 51,
      "outputs": []
    },
    {
      "cell_type": "code",
      "source": [
        "# 4. Interpret the results:\n",
        "\n",
        "print(\"F-value:\", fvalue)\n",
        "print(\"P-value:\", pvalue)\n",
        "\n",
        "alpha = 0.05  # Set the significance level\n",
        "\n",
        "if pvalue < alpha:\n",
        "    print(\"Reject the null hypothesis. There is a significant difference in customer satisfaction scores among the product versions.\")\n",
        "else:\n",
        "    print(\"Fail to reject the null hypothesis. There is no significant difference in customer satisfaction scores among the product versions.\")"
      ],
      "metadata": {
        "colab": {
          "base_uri": "https://localhost:8080/"
        },
        "id": "ti6uLxMgwsD9",
        "outputId": "119ac200-9c41-4b54-defb-d00eef06e31c"
      },
      "execution_count": 52,
      "outputs": [
        {
          "output_type": "stream",
          "name": "stdout",
          "text": [
            "F-value: 27.03556231003039\n",
            "P-value: 3.5786328857349003e-07\n",
            "Reject the null hypothesis. There is a significant difference in customer satisfaction scores among the product versions.\n"
          ]
        }
      ]
    },
    {
      "cell_type": "markdown",
      "source": [
        "Explanation:\n",
        "\n",
        "1. Import scipy.stats: This line imports the necessary library for statistical analysis, including the ANOVA test.\n",
        "2. Define data: The provided data for customer satisfaction scores for each product version is assigned to variables.\n",
        "3. Perform ANOVA: stats.f_oneway is used to perform the ANOVA test. It takes the data for each group as input and returns the F-value and p-value.\n",
        "4. Interpret results:\n",
        "  * The F-value represents the ratio of between-group variance to within-group variance. A larger F-value suggests a greater difference between the groups.\n",
        "  * The p-value represents the probability of observing the data if there were no difference between the groups. A smaller p-value suggests stronger evidence against the null hypothesis.\n",
        "  * A significance level (alpha) is set (usually 0.05).\n",
        "  * If the p-value is less than alpha, we reject the null hypothesis, concluding that there is a significant difference in customer satisfaction scores among the product versions.\n",
        "  * If the p-value is greater than or equal to alpha, we fail to reject the null hypothesis, indicating insufficient evidence to conclude a significant difference."
      ],
      "metadata": {
        "id": "mjE7_DJ8wxnv"
      }
    },
    {
      "cell_type": "code",
      "source": [],
      "metadata": {
        "id": "7b3M6ZwRwvvN"
      },
      "execution_count": null,
      "outputs": []
    }
  ]
}